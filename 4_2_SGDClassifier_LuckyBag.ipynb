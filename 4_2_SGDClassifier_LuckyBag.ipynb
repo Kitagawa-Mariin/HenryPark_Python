{
  "nbformat": 4,
  "nbformat_minor": 0,
  "metadata": {
    "colab": {
      "provenance": [],
      "authorship_tag": "ABX9TyNpASwn/wL9MsWrOkaJczU5",
      "include_colab_link": true
    },
    "kernelspec": {
      "name": "python3",
      "display_name": "Python 3"
    },
    "language_info": {
      "name": "python"
    }
  },
  "cells": [
    {
      "cell_type": "markdown",
      "metadata": {
        "id": "view-in-github",
        "colab_type": "text"
      },
      "source": [
        "<a href=\"https://colab.research.google.com/github/Kitagawa-Mariin/HenryPark_Python/blob/Machine_Learning/4_2_SGDClassifier_LuckyBag.ipynb\" target=\"_parent\"><img src=\"https://colab.research.google.com/assets/colab-badge.svg\" alt=\"Open In Colab\"/></a>"
      ]
    },
    {
      "cell_type": "markdown",
      "source": [
        "***Stochastic Gradient Descent 확률적 경사 하강법*** \\\n",
        "\n",
        "*점진적으로 학습하는 로지스틱 회귀 모델!( with log_loss function)* \\\n",
        "\n",
        "훈련 세트에서 랜덤하게 하나의 샘플을 골라 가파른 경사를 조금씩 내려간다. 그다음 훈련 세트에서 랜덤하게 또 다른 샘플을 하나 선택하여 경사를 조금 내려간다. 전체 샘플을 모두 사용할 때까지 계속한다. >> ***Epoch*** (훈련 세트를 한 번 모두 사용하는 과정) >> 다시 훈련세트를 채워서 반복. \\\n",
        "\n",
        "점진적으로 가장 가까운거리(가파른 경사)를 조금씩 조금씩 내려가므로, 훈련세트에 조금씩 조금씩 샘플을 넣어서 알고리즘을 발전시킬 수 있다. (training set가 점점 늘어가면 갈 수록 컴퓨터 과부하 >> training set 넣을 때 마다 처음부터 다시 세트를 훈련시키기에는 무리라구욧..!)\n",
        "\n",
        "**Stochastic Gradient Descent** : 1개씩 \\\n",
        "\n",
        "**Minibatch Gradient Descent** : 여러 개씩 \\\n",
        "\n",
        "**Batch Gradient Descent** : 모두 한번에 \\\n",
        "\n",
        "손실 함수라는 산을 정의하고 가장 가파른 경사를 따라 조금씩 내려오는 알고리즘.\n"
      ],
      "metadata": {
        "id": "JTA6-e9fMswv"
      }
    },
    {
      "cell_type": "markdown",
      "source": [
        "***Loss Function*** \\\n",
        "\n",
        "Standard that measure how bad is the algorithm >> lower loss function means good algorithm\n"
      ],
      "metadata": {
        "id": "CkUiMIEsQRja"
      }
    },
    {
      "cell_type": "markdown",
      "source": [
        "***Logistic Loss Function or Binary Cross-entropy Loss Function*** \\\n",
        "\n",
        "**Cross-entropy Loss Function** for multiple classification\n",
        "\n",
        "**positive class(target = 1)** >> loss : -log(probability) >>> when the probability is getting close to 0, the loss becomes a huge positive number. \\\n",
        "\n",
        "**negative class(target = 0)** >> loss : -log(1 - probability) >>> when the probability is getting close to 1, the loss becomes a huge positive number. \\\n",
        "\n",
        "The probability is a probability of input is in the positive class(1). \\\n",
        "so, the probability of negative class >> 1 - probability\n"
      ],
      "metadata": {
        "id": "DVImdya8Si4D"
      }
    },
    {
      "cell_type": "code",
      "source": [
        "import pandas as pd\n",
        "fish = pd.read_csv('https://bit.ly/fish_csv_data')\n",
        "\n",
        "fish_input = fish[['Weight', 'Length', 'Diagonal', 'Height', 'Width']].to_numpy()\n",
        "fish_target = fish['Species'].to_numpy()\n",
        "\n",
        "from sklearn.model_selection import train_test_split\n",
        "train_input, test_input, train_target, test_target = train_test_split(fish_input, fish_target, random_state = 42)\n",
        "\n",
        "from sklearn.preprocessing import StandardScaler\n",
        "ss = StandardScaler()\n",
        "ss.fit(train_input)\n",
        "train_scaled = ss.transform(train_input)\n",
        "test_scaled = ss.transform(test_input)\n",
        "\n",
        "from sklearn.linear_model import SGDClassifier\n",
        "sc = SGDClassifier(loss='log', max_iter=10, random_state=42) #loss='log' >> logistic loss function\n",
        "#max_inter = 10 >> epoch num\n",
        "sc.fit(train_scaled, train_target)\n",
        "print(sc.score(train_scaled, train_target))\n",
        "print(sc.score(test_scaled, test_target))\n",
        "\n",
        "#한번에 훈련 세트 전체를 전달했지만, SGD 알고리즘이 하나씩 샘플을 꺼내와서 경사 하강법 단계 수행.\n",
        "\n",
        "sc.partial_fit(train_scaled, train_target) #1 에포크씩 이어서 훈련.\n",
        "print(sc.score(train_scaled, train_target))\n",
        "print(sc.score(test_scaled, test_target))\n",
        "\n"
      ],
      "metadata": {
        "colab": {
          "base_uri": "https://localhost:8080/"
        },
        "id": "fd1lxtv_QOoj",
        "outputId": "5a995fc6-48ff-423b-e15d-b9b5d7463ffc"
      },
      "execution_count": null,
      "outputs": [
        {
          "output_type": "stream",
          "name": "stdout",
          "text": [
            "0.773109243697479\n",
            "0.775\n",
            "0.8151260504201681\n",
            "0.85\n"
          ]
        },
        {
          "output_type": "stream",
          "name": "stderr",
          "text": [
            "/usr/local/lib/python3.10/dist-packages/sklearn/linear_model/_stochastic_gradient.py:163: FutureWarning: The loss 'log' was deprecated in v1.1 and will be removed in version 1.3. Use `loss='log_loss'` which is equivalent.\n",
            "  warnings.warn(\n",
            "/usr/local/lib/python3.10/dist-packages/sklearn/linear_model/_stochastic_gradient.py:702: ConvergenceWarning: Maximum number of iteration reached before convergence. Consider increasing max_iter to improve the fit.\n",
            "  warnings.warn(\n"
          ]
        }
      ]
    },
    {
      "cell_type": "markdown",
      "source": [
        "***Early Stopping*** \\\n",
        "\n",
        "Stop training before the overfitting starts.\\\n",
        "훈련 세트 점수는 에포크가 진행될수록 꾸준히 증가하지만 테스트 세트 점수는 어느 순간 감소하기 시작한다. >> start of overfitting\n"
      ],
      "metadata": {
        "id": "bYIVLr2UtcNG"
      }
    },
    {
      "cell_type": "code",
      "source": [
        "import numpy as np\n",
        "sc = SGDClassifier(loss='log', random_state=42)\n",
        "train_score = []\n",
        "test_score = []\n",
        "classes = np.unique(train_target)\n",
        "\n",
        "for _ in range(0, 300):\n",
        "  sc.partial_fit(train_scaled, train_target, classes=classes) #partial_fit()만 사용하려면 훈련 세트에 있는 전체 클래스의 레이블을 partial_fit() 메서드에 전달해야됨.\n",
        "  #classes = classes\n",
        "  train_score.append(sc.score(train_scaled, train_target))\n",
        "  test_score.append(sc.score(test_scaled, test_target))\n",
        "\n",
        "import matplotlib.pyplot as plt\n",
        "plt.plot(train_score)\n",
        "plt.plot(test_score)\n",
        "plt.xlabel('epoch')\n",
        "plt.ylabel('accuracy')\n",
        "plt.title('Accuracy of train set vs. test set')\n",
        "plt.legend(['train set', 'test set'])\n",
        "plt.show()\n",
        "\n",
        "#It shows the score difference between train set and test set gets bigger from 100th epoch\n",
        "#>> 100 epoches is proper number of epoch\n"
      ],
      "metadata": {
        "colab": {
          "base_uri": "https://localhost:8080/",
          "height": 527
        },
        "id": "zmrD4P3RX_97",
        "outputId": "cbef8ace-07dd-4c57-9d19-97a10f561deb"
      },
      "execution_count": null,
      "outputs": [
        {
          "output_type": "stream",
          "name": "stderr",
          "text": [
            "/usr/local/lib/python3.10/dist-packages/sklearn/linear_model/_stochastic_gradient.py:163: FutureWarning: The loss 'log' was deprecated in v1.1 and will be removed in version 1.3. Use `loss='log_loss'` which is equivalent.\n",
            "  warnings.warn(\n"
          ]
        },
        {
          "output_type": "display_data",
          "data": {
            "text/plain": [
              "<Figure size 640x480 with 1 Axes>"
            ],
            "image/png": "[encoded data removed]"
          },
          "metadata": {}
        }
      ]
    },
    {
      "cell_type": "code",
      "source": [
        "sc = SGDClassifier(loss='log_loss', max_iter=100, tol=None, random_state=42)\n",
        "sc.fit(train_scaled, train_target)\n",
        "print(sc.score(train_scaled, train_target))\n",
        "print(sc.score(test_scaled, test_target))\n",
        "\n",
        "#SGDClassifier는 일정 에포크 동안 성능이 향상되지 않으면 더 훈련하지 않고 자동으로 멈춤.\n",
        "#tol = 향상될 최소값을 지정. >> none으로 지정해서 자동으로 멈추지 않고 max_iter=100만큼 무조건 반복!\n",
        "#We also have SGDRegressor\n"
      ],
      "metadata": {
        "colab": {
          "base_uri": "https://localhost:8080/"
        },
        "id": "bTxHdZpFxvzb",
        "outputId": "abfbcfdc-12f1-448c-c8ab-6a26f1516b57"
      },
      "execution_count": null,
      "outputs": [
        {
          "output_type": "stream",
          "name": "stdout",
          "text": [
            "0.957983193277311\n",
            "0.925\n"
          ]
        }
      ]
    },
    {
      "cell_type": "markdown",
      "source": [
        "***Hinge Loss***  for support vector machine \\\n",
        "\n",
        "another machine learning algorithm. >> SGDClassifier supports many machine learing algorithm with various loss functions like log_loss and hinge."
      ],
      "metadata": {
        "id": "gAaGk6kozGid"
      }
    },
    {
      "cell_type": "code",
      "source": [
        "sc = SGDClassifier(loss='hinge', max_iter = 100, tol=None, random_state = 42)\n",
        "sc.fit(train_scaled, train_target)\n",
        "print(sc.score(train_scaled, train_target))\n",
        "print(sc.score(test_scaled, test_target))\n"
      ],
      "metadata": {
        "colab": {
          "base_uri": "https://localhost:8080/"
        },
        "id": "wcft1A7_yoLr",
        "outputId": "3d534096-a029-4a26-a5a1-3b7973460485"
      },
      "execution_count": null,
      "outputs": [
        {
          "output_type": "stream",
          "name": "stdout",
          "text": [
            "0.9495798319327731\n",
            "0.925\n"
          ]
        }
      ]
    }
  ]
}