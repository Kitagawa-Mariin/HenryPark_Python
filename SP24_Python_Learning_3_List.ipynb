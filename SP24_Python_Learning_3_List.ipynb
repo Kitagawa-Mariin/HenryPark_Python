{
  "nbformat": 4,
  "nbformat_minor": 0,
  "metadata": {
    "colab": {
      "provenance": [],
      "include_colab_link": true
    },
    "kernelspec": {
      "name": "python3",
      "display_name": "Python 3"
    },
    "language_info": {
      "name": "python"
    }
  },
  "cells": [
    {
      "cell_type": "markdown",
      "metadata": {
        "id": "view-in-github",
        "colab_type": "text"
      },
      "source": [
        "<a href=\"https://colab.research.google.com/github/Kitagawa-Mariin/HenryPark_Python/blob/Python_Learning/SP24_Python_Learning_3_List.ipynb\" target=\"_parent\"><img src=\"https://colab.research.google.com/assets/colab-badge.svg\" alt=\"Open In Colab\"/></a>"
      ]
    },
    {
      "cell_type": "markdown",
      "source": [
        "#지난 주 복습"
      ],
      "metadata": {
        "id": "ze2CwFPuJ6zv"
      }
    },
    {
      "cell_type": "markdown",
      "source": [
        "* if\n",
        "* elif\n",
        "* else\n",
        "* for\n",
        "* while\n",
        "\n"
      ],
      "metadata": {
        "id": "IBUfFCl1J_2k"
      }
    },
    {
      "cell_type": "markdown",
      "source": [
        "# 복습 예제"
      ],
      "metadata": {
        "id": "u7R-FZs8KV34"
      }
    },
    {
      "cell_type": "markdown",
      "source": [
        "그 전에 잠깐!\n",
        "\n",
        "이제부턴 print(f\"\") 혹은 print(.format())을 써볼 겁니다\n",
        "\n",
        "print(f)와 print(.format) 둘다 원하는 값을 출력문 안에 넣을 수 있도록 합니다\n",
        "\n",
        "예를 들어,\n",
        "\n",
        "name = hangoo\n",
        "\n",
        "print(f\"My name is {name}\") 을 하면 -> My name is hangoo가 출력 되게 됩니다.\n",
        "\n",
        "똑같이\n",
        "\n",
        "print(\"My name is {}\".format(name)) 또한 같은 값을 출력하게 됩니다."
      ],
      "metadata": {
        "id": "K1ISk2iUAGL3"
      }
    },
    {
      "cell_type": "code",
      "source": [
        "#name 변수와 age, major 변수를 만든 다음 아래와 같이 출력하시오\n",
        "\n",
        "# 제 이름은 ___ 이며, ___살입니다. 현재 ____ 전공하고 있습니다.\n",
        "\n",
        "name = 'Henry Park'\n",
        "age = 21\n",
        "major = 'bioe'\n",
        "\n",
        "print(f\"제 이름은 {name}이며, {age}살입니다. 현재 {major} 전공하고 있습니다.\")"
      ],
      "metadata": {
        "id": "_JqcxRqTIfV4",
        "colab": {
          "base_uri": "https://localhost:8080/"
        },
        "outputId": "f84fc323-8474-4f0c-9c9d-93a2d0613ce9"
      },
      "execution_count": null,
      "outputs": [
        {
          "output_type": "stream",
          "name": "stdout",
          "text": [
            "제 이름은 Henry Park이며, 21살입니다. 현재 bioe 전공하고 있습니다.\n"
          ]
        }
      ]
    },
    {
      "cell_type": "code",
      "execution_count": null,
      "metadata": {
        "id": "8LMW5jLz7WC9",
        "colab": {
          "base_uri": "https://localhost:8080/"
        },
        "outputId": "9e268e39-8b50-4892-b9e1-5afad47fb5fb"
      },
      "outputs": [
        {
          "output_type": "stream",
          "name": "stdout",
          "text": [
            "a와 b 값이 각각 5 , 5 로 같다 \n"
          ]
        }
      ],
      "source": [
        "# 값 비교하기\n",
        "a = 5\n",
        "b = 5\n",
        "\n",
        "if a > b:\n",
        "  print(f\"{a}이 {b}보다 크다\")\n",
        "elif a < b:\n",
        "  print(\"{}이 {}보다 크다\".format(a,b))\n",
        "else:\n",
        "  print(\"a와 b 값이 각각\", a, \",\", b, \"로 같다 \")"
      ]
    },
    {
      "cell_type": "code",
      "source": [
        "# for loop으로 숫자 써보기\n",
        "\n",
        "for i in range(1, 10): #range 함수를 써서 1부터 20 - 1까지 범위를 정해준다.\n",
        "  if i % 2 == 0:\n",
        "    print(i, \"는 짝수입니다\")\n",
        "  else:\n",
        "    print(i, \"는 홀수입니다\")"
      ],
      "metadata": {
        "colab": {
          "base_uri": "https://localhost:8080/"
        },
        "id": "S27oA0mTJUpy",
        "outputId": "7d85dc11-d0e5-43ba-8793-da8f88ba7e70"
      },
      "execution_count": null,
      "outputs": [
        {
          "output_type": "stream",
          "name": "stdout",
          "text": [
            "1 는 홀수입니다\n",
            "2 는 짝수입니다\n",
            "3 는 홀수입니다\n",
            "4 는 짝수입니다\n",
            "5 는 홀수입니다\n",
            "6 는 짝수입니다\n",
            "7 는 홀수입니다\n",
            "8 는 짝수입니다\n",
            "9 는 홀수입니다\n"
          ]
        }
      ]
    },
    {
      "cell_type": "code",
      "source": [
        "# while loop으로 숫자 써보기\n",
        "\n",
        "i = 1\n",
        "while i < 20:\n",
        "  if i % 2 == 0:\n",
        "    print(i, \"는 짝수입니다\")\n",
        "  else:\n",
        "    print(i, \"는 홀수입니다\")\n",
        "  i += 1 # counter = counter + 1 와 동일"
      ],
      "metadata": {
        "colab": {
          "base_uri": "https://localhost:8080/"
        },
        "id": "Wni6zt1tMTyn",
        "outputId": "11d4c14a-e900-4805-c788-fdcb2f1c543a"
      },
      "execution_count": null,
      "outputs": [
        {
          "output_type": "stream",
          "name": "stdout",
          "text": [
            "1 는 홀수입니다\n",
            "2 는 짝수입니다\n",
            "3 는 홀수입니다\n",
            "4 는 짝수입니다\n",
            "5 는 홀수입니다\n",
            "6 는 짝수입니다\n",
            "7 는 홀수입니다\n",
            "8 는 짝수입니다\n",
            "9 는 홀수입니다\n",
            "10 는 짝수입니다\n",
            "11 는 홀수입니다\n",
            "12 는 짝수입니다\n",
            "13 는 홀수입니다\n",
            "14 는 짝수입니다\n",
            "15 는 홀수입니다\n",
            "16 는 짝수입니다\n",
            "17 는 홀수입니다\n",
            "18 는 짝수입니다\n",
            "19 는 홀수입니다\n"
          ]
        }
      ]
    },
    {
      "cell_type": "markdown",
      "source": [
        "#조건에 따라 반복문 중단하기\n",
        "\n",
        "* loop를 계속 돌다가 멈추고 싶은 점을 지정 시킬 수 있다."
      ],
      "metadata": {
        "id": "-08_XaGrMPDf"
      }
    },
    {
      "cell_type": "code",
      "source": [
        "a = 10\n",
        "b = 1\n",
        "while True:\n",
        "  if a == b:\n",
        "    print(\"\")\n",
        "    print(\"if 조건문에 들어왔습니다\")\n",
        "    print(\"a= \", a)\n",
        "    print(\"b= \", b)\n",
        "    break\n",
        "\n",
        "  b += 1\n",
        "  print(\"b= \", b)\n",
        "  print(\"b를 1 증가시키고 루프를 다시 돌립니다\")"
      ],
      "metadata": {
        "colab": {
          "base_uri": "https://localhost:8080/"
        },
        "id": "7QgFbg2XLd5Q",
        "outputId": "61ba6f52-dc19-4f50-e718-e4e65ab612d0"
      },
      "execution_count": null,
      "outputs": [
        {
          "output_type": "stream",
          "name": "stdout",
          "text": [
            "b=  2\n",
            "b를 1 증가시키고 루프를 다시 돌립니다\n",
            "b=  3\n",
            "b를 1 증가시키고 루프를 다시 돌립니다\n",
            "b=  4\n",
            "b를 1 증가시키고 루프를 다시 돌립니다\n",
            "b=  5\n",
            "b를 1 증가시키고 루프를 다시 돌립니다\n",
            "b=  6\n",
            "b를 1 증가시키고 루프를 다시 돌립니다\n",
            "b=  7\n",
            "b를 1 증가시키고 루프를 다시 돌립니다\n",
            "b=  8\n",
            "b를 1 증가시키고 루프를 다시 돌립니다\n",
            "b=  9\n",
            "b를 1 증가시키고 루프를 다시 돌립니다\n",
            "b=  10\n",
            "b를 1 증가시키고 루프를 다시 돌립니다\n",
            "\n",
            "if 조건문에 들어왔습니다\n",
            "a=  10\n",
            "b=  10\n"
          ]
        }
      ]
    },
    {
      "cell_type": "markdown",
      "source": [
        "# 리스트\n",
        "\n",
        "* 이전까지 a, b란 varaible들을 각각 initialized해줬어야했다.\n",
        "* Variable들을 묶음으로 보관하여 더 손쉽게 유저들이 데이터에 접근 할 수 있게 도와주는 자료형\n",
        "\n",
        "* 사물함이라 생각하면 편하다. 내가 원하는 곳에 원하는 값을 저장할 수 있도록 해줍니다. (첫 번째 칸엔 바지를, 그 다음엔 상의를, 그 다음엔 아우터를 등등)"
      ],
      "metadata": {
        "id": "lHRrXVLjN9BE"
      }
    },
    {
      "cell_type": "code",
      "source": [
        "a = [1,2,3,4] #same variable types\n",
        "\n",
        "b = [1, \"apple\", True, 2.45] # able to store various variable types\n",
        "\n",
        "c = [\"apple\", \"banana\", \"tomato\", \"durian\"]\n",
        "\n",
        "#empty list\n",
        "d = []\n",
        "\n",
        "print(type(a))\n",
        "print(type(b))\n",
        "print(type(c))\n",
        "print(type(d))\n",
        "\n",
        "print(type(b[0]))\n",
        "print(type(b[1]))\n",
        "print(type(b[2]))"
      ],
      "metadata": {
        "colab": {
          "base_uri": "https://localhost:8080/"
        },
        "id": "4HLYBgmxN8zH",
        "outputId": "0ab01689-f99e-43a2-9586-f30a9540eed1"
      },
      "execution_count": null,
      "outputs": [
        {
          "output_type": "stream",
          "name": "stdout",
          "text": [
            "<class 'list'>\n",
            "<class 'list'>\n",
            "<class 'list'>\n",
            "<class 'list'>\n",
            "<class 'int'>\n",
            "<class 'str'>\n",
            "<class 'bool'>\n"
          ]
        }
      ]
    },
    {
      "cell_type": "markdown",
      "source": [
        "list에 몇개의 element가 저장되어있는 지 확인하는 커멘드"
      ],
      "metadata": {
        "id": "y4h92pt_QXuH"
      }
    },
    {
      "cell_type": "code",
      "source": [
        "print(len(a))\n",
        "print(len(b))\n",
        "print(len(c))\n",
        "print(len(d))"
      ],
      "metadata": {
        "colab": {
          "base_uri": "https://localhost:8080/"
        },
        "id": "cJFWJsRiQb3b",
        "outputId": "242f235d-e183-42bc-ea7b-f307085db69e"
      },
      "execution_count": null,
      "outputs": [
        {
          "output_type": "stream",
          "name": "stdout",
          "text": [
            "4\n",
            "4\n",
            "4\n",
            "0\n"
          ]
        }
      ]
    },
    {
      "cell_type": "markdown",
      "source": [
        "list 안에 저장 되어있는 데이터 access하는 법"
      ],
      "metadata": {
        "id": "Za5_aQSQPtcS"
      }
    },
    {
      "cell_type": "code",
      "source": [
        "print(b[0])\n",
        "print(b[1])\n",
        "print(b[2])\n",
        "print(b[3])\n",
        "\n",
        "print(\" \")\n",
        "\n",
        "for i in range(len(b)):\n",
        "  print(b[i])"
      ],
      "metadata": {
        "colab": {
          "base_uri": "https://localhost:8080/"
        },
        "id": "BHQdy7U3PqSR",
        "outputId": "3135eeb9-f3d4-4668-86f4-a4c81abe4eb2"
      },
      "execution_count": null,
      "outputs": [
        {
          "output_type": "stream",
          "name": "stdout",
          "text": [
            "1\n",
            "apple\n",
            "True\n",
            "2.45\n",
            " \n",
            "1\n",
            "apple\n",
            "True\n",
            "2.45\n"
          ]
        }
      ]
    },
    {
      "cell_type": "code",
      "source": [
        "# 마이너스를 사용하여 access 할 수 있다\n",
        "print(b[-1])\n",
        "print(b[len(b) - 1])"
      ],
      "metadata": {
        "id": "fAGwZ4tsQHj7",
        "colab": {
          "base_uri": "https://localhost:8080/"
        },
        "outputId": "293ddf30-5ea5-498f-f756-4286af467745"
      },
      "execution_count": null,
      "outputs": [
        {
          "output_type": "stream",
          "name": "stdout",
          "text": [
            "2.45\n",
            "2.45\n"
          ]
        }
      ]
    },
    {
      "cell_type": "markdown",
      "source": [
        "인덱스를 사용하여 리스트 활용\n",
        "\n",
        "<br>list[starting index : ending index : step]"
      ],
      "metadata": {
        "id": "HFGK4L3HincF"
      }
    },
    {
      "cell_type": "code",
      "source": [
        "a = [1,2,3,4,5,6,7,8,9,10]\n",
        "\n",
        "print(a[3:])\n",
        "\n",
        "print(a[:6])\n",
        "\n",
        "# 리스트 안에 있는 element들을 원하는 간격맏 건너 뛰면서 수 access 할 수 있습니다\n",
        "print(a[0:10:2])\n",
        "\n",
        "# 리스트 안에 있는 element들의 순서를 뒤집을 수 있습니다\n",
        "print(a[::-1])"
      ],
      "metadata": {
        "colab": {
          "base_uri": "https://localhost:8080/"
        },
        "id": "6Fuh5nYYimpV",
        "outputId": "7a38aa74-7d5b-4fb7-ca5b-0cd6b91e1943"
      },
      "execution_count": null,
      "outputs": [
        {
          "output_type": "stream",
          "name": "stdout",
          "text": [
            "[4, 5, 6, 7, 8, 9, 10]\n",
            "[1, 2, 3, 4, 5, 6]\n",
            "[1, 3, 5, 7, 9]\n",
            "[10, 9, 8, 7, 6, 5, 4, 3, 2, 1]\n"
          ]
        }
      ]
    },
    {
      "cell_type": "markdown",
      "source": [
        "리스트 안에 리스트를 넣을 수 있습니다"
      ],
      "metadata": {
        "id": "nKRy8y7Sg5iB"
      }
    },
    {
      "cell_type": "code",
      "source": [
        "multi_list = [[1,2],[3,4],[5,6]]\n",
        "print(multi_list[0])\n",
        "print(multi_list[0][0])\n",
        "print(multi_list[0][1])\n",
        "print(multi_list[1])\n",
        "print(multi_list[1][0])\n",
        "print(multi_list[1][1])\n",
        "print(multi_list[2])\n",
        "print(multi_list[2][0])\n",
        "print(multi_list[2][1])"
      ],
      "metadata": {
        "colab": {
          "base_uri": "https://localhost:8080/"
        },
        "id": "TnaY2LF3g5RE",
        "outputId": "a3ed1b4b-ab2c-4697-d31d-76ca2b625209"
      },
      "execution_count": null,
      "outputs": [
        {
          "output_type": "stream",
          "name": "stdout",
          "text": [
            "[1, 2]\n",
            "1\n",
            "2\n",
            "[3, 4]\n",
            "3\n",
            "4\n",
            "[5, 6]\n",
            "5\n",
            "6\n"
          ]
        }
      ]
    },
    {
      "cell_type": "markdown",
      "source": [
        "List Comprehension"
      ],
      "metadata": {
        "id": "PAsqdpiGhfJa"
      }
    },
    {
      "cell_type": "code",
      "source": [
        "a = [1,2,3,4,5,6]\n",
        "\n",
        "b = a\n",
        "\n",
        "c = [a[i] for i in range(len(a))]\n",
        "\n",
        "print(a)\n",
        "print(b)\n",
        "print(c)"
      ],
      "metadata": {
        "id": "nyjKvxQtRaIv",
        "colab": {
          "base_uri": "https://localhost:8080/"
        },
        "outputId": "a110eaf5-e620-4ea4-b637-611b60b69cc1"
      },
      "execution_count": null,
      "outputs": [
        {
          "output_type": "stream",
          "name": "stdout",
          "text": [
            "[1, 2, 3, 4, 5, 6]\n",
            "[1, 2, 3, 4, 5, 6]\n",
            "[1, 2, 3, 4, 5, 6]\n"
          ]
        }
      ]
    },
    {
      "cell_type": "markdown",
      "source": [
        "\"in\"을 사용하여 리스트 안에 특정 element가 있나 확인 할 수 있습니다"
      ],
      "metadata": {
        "id": "hAUm49UChy0Y"
      }
    },
    {
      "cell_type": "code",
      "source": [
        "grocery = ['apple', 'banana','kiwi']\n",
        "\n",
        "#1\n",
        "if 'apple' in grocery:\n",
        "  print(\"Yes\")\n",
        "else:\n",
        "  print(\"No\")\n",
        "\n",
        "#2\n",
        "\n",
        "if 'pineapple' not in grocery:\n",
        "    print(\"Yes\")\n",
        "else:\n",
        "    print(\"No\")"
      ],
      "metadata": {
        "colab": {
          "base_uri": "https://localhost:8080/"
        },
        "id": "gCyUHlyPholD",
        "outputId": "2e3c35a6-bdfd-408c-a43c-0869b4c071f5"
      },
      "execution_count": null,
      "outputs": [
        {
          "output_type": "stream",
          "name": "stdout",
          "text": [
            "Yes\n",
            "Yes\n"
          ]
        }
      ]
    },
    {
      "cell_type": "markdown",
      "source": [
        "리스트 변경하기"
      ],
      "metadata": {
        "id": "mBFOrwF3QooY"
      }
    },
    {
      "cell_type": "code",
      "source": [
        "# 두 리스트를 붙이기\n",
        "print(a + b)\n",
        "\n",
        "print(a * 2)\n",
        "\n",
        "print(a * 0)"
      ],
      "metadata": {
        "colab": {
          "base_uri": "https://localhost:8080/"
        },
        "id": "OtyRu9wbQHhg",
        "outputId": "536a66cb-da3b-49a5-ee17-f8f201e1785f"
      },
      "execution_count": null,
      "outputs": [
        {
          "output_type": "stream",
          "name": "stdout",
          "text": [
            "[1, 2, 3, 4, 5, 6, 1, 2, 3, 4, 5, 6]\n",
            "[1, 2, 3, 4, 5, 6, 1, 2, 3, 4, 5, 6]\n",
            "[]\n"
          ]
        }
      ]
    },
    {
      "cell_type": "markdown",
      "source": [
        "인덱스를 활용하여 원하는 리스트 안에 있는 element를 바꿀 수 있습니다.\n",
        "\n",
        "또, 리스트 맨 마지막에 데이터를 추가하고 싶으시면 append 함수를 써서 추가하실 수 있습니다.\n",
        "\n",
        "반대로 리스트에서 특정 값을 지우고 싶으실 때는 remove를 쓰시면 됩니다."
      ],
      "metadata": {
        "id": "DaG3P_Ifj4f4"
      }
    },
    {
      "cell_type": "markdown",
      "source": [],
      "metadata": {
        "id": "prs0J2-fHfaD"
      }
    },
    {
      "cell_type": "code",
      "source": [
        "CS_course = []\n",
        "\n",
        "# 'cs125', 'cs173', 'cs225' 를 CS_course 리스트에 넣는 법\n",
        "CS_course.append('cs125')\n",
        "CS_course.append('cs173')\n",
        "CS_course.append('cs225')\n",
        "\n",
        "print(CS_course)\n",
        "\n",
        "# cs125를 기존 리스트에서 빼고 'cs125', 'cs128'을 추가하기\n",
        "CS_course.remove('cs125')\n",
        "CS_course = ['cs124', 'cs128'] + CS_course\n",
        "\n",
        "print(CS_course)\n",
        "\n",
        "# 리스트의 마지막 element를 지우고 싶을땐 pop을 사용한다\n",
        "last_element = CS_course.pop()\n",
        "print(\"Removed element:\", last_element)\n",
        "print(\"Modified CS_course:\", CS_course)"
      ],
      "metadata": {
        "id": "WaoX1nz2Po9u",
        "colab": {
          "base_uri": "https://localhost:8080/"
        },
        "outputId": "ddd7bb46-9256-4d8a-b68d-5dd2991e9ba8"
      },
      "execution_count": null,
      "outputs": [
        {
          "output_type": "stream",
          "name": "stdout",
          "text": [
            "['cs125', 'cs173', 'cs225']\n",
            "['cs124', 'cs128', 'cs173', 'cs225']\n",
            "Removed element: cs225\n",
            "Modified CS_course: ['cs124', 'cs128', 'cs173']\n"
          ]
        }
      ]
    },
    {
      "cell_type": "markdown",
      "source": [
        "Split 사용법\n",
        "\n",
        "split은 원하는 delimiter를 사용하여 문자열을 나누는 것입니다.\n",
        "\n",
        "예를 들어 \"나는.강한구.이.다\"를 split(\".\") 할 경우 ['나는','강한구','이','다']로 나뉘게 된다"
      ],
      "metadata": {
        "id": "e-9W7d5Nm9yB"
      }
    },
    {
      "cell_type": "code",
      "source": [
        "sentence = \"Hello my name is John I am UIUC student\"\n",
        "words = sentence.split()\n",
        "print(words)"
      ],
      "metadata": {
        "colab": {
          "base_uri": "https://localhost:8080/"
        },
        "id": "rQSj4RRDkcCV",
        "outputId": "fc432e50-9ed1-40e5-e437-aadbd42e8e69"
      },
      "execution_count": null,
      "outputs": [
        {
          "output_type": "stream",
          "name": "stdout",
          "text": [
            "['Hello', 'my', 'name', 'is', 'John', 'I', 'am', 'UIUC', 'student']\n"
          ]
        }
      ]
    },
    {
      "cell_type": "markdown",
      "source": [
        "Count를 사용하여 중복된 element들의 갯수 세기"
      ],
      "metadata": {
        "id": "vUoHsJA4nUUV"
      }
    },
    {
      "cell_type": "code",
      "source": [
        "#count함수를 사용하여 1이 리스트 안에 몇개가 들어가 있는지 셀 수 있다\n",
        "a = [1,1,1,1,1,2,3,2,2,2,3,5,6,8,8,71,1,54,1,3,1]\n",
        "\n",
        "print(a.count(1))"
      ],
      "metadata": {
        "colab": {
          "base_uri": "https://localhost:8080/"
        },
        "id": "G3n_q6AMm_ij",
        "outputId": "9adc8d51-1eed-4b32-b469-199a3c690b65"
      },
      "execution_count": null,
      "outputs": [
        {
          "output_type": "stream",
          "name": "stdout",
          "text": [
            "8\n"
          ]
        }
      ]
    },
    {
      "cell_type": "markdown",
      "source": [
        "sort(), reverse()\n",
        "\n",
        "정렬 함수인 sort은 리스트의 값들을 증가하는 방향으로 정렬해준다.\n",
        "\n",
        "또 리서브 함수는 리스트의 값들을 역순으로 만들어준다."
      ],
      "metadata": {
        "id": "UeK_otpen1M6"
      }
    },
    {
      "cell_type": "code",
      "source": [
        "a = [1,8,4,2,5,7,9,2,3,54,7,1,73]\n",
        "a.sort()\n",
        "print(a)\n",
        "\n",
        "a.reverse()\n",
        "print(a)\n",
        "\n",
        "#둘 다 같이 사용하기\n",
        "a = [1,8,4,2,5,7,9,2,3,54,7,1,73]\n",
        "a.sort(reverse=True)\n",
        "print(a)"
      ],
      "metadata": {
        "colab": {
          "base_uri": "https://localhost:8080/"
        },
        "id": "numoHL58ne2b",
        "outputId": "a8fb7f72-25c1-412b-e03f-0705facc5441"
      },
      "execution_count": null,
      "outputs": [
        {
          "output_type": "stream",
          "name": "stdout",
          "text": [
            "[1, 1, 2, 2, 3, 4, 5, 7, 7, 8, 9, 54, 73]\n",
            "[73, 54, 9, 8, 7, 7, 5, 4, 3, 2, 2, 1, 1]\n",
            "[73, 54, 9, 8, 7, 7, 5, 4, 3, 2, 2, 1, 1]\n"
          ]
        }
      ]
    },
    {
      "cell_type": "markdown",
      "source": [
        "마지막으로 루프를 쓸 때, 리스트 같은 경우엔 리스트 안의 모든 element들을 돌려주세요 라고 할 수 있습니다.\n",
        "\n",
        "for i in list_name:\n",
        "\n",
        "을 하실 경우에, 리스트에 있는 모든 데이터를 순차적으로 사용하며 루프를 돕니다."
      ],
      "metadata": {
        "id": "BTGXhzSU70Xu"
      }
    },
    {
      "cell_type": "code",
      "source": [
        "sample_list = [1,2,3,4,5,6,7,8,9,10]\n",
        "\n",
        "for i in sample_list:\n",
        "  print(i)\n",
        "\n",
        "\n",
        "#즉\n",
        "\n",
        "for i in range(len(sample_list)):\n",
        "  print(sample_list[i])\n",
        "\n",
        "#와 동일한 기능을 한다."
      ],
      "metadata": {
        "colab": {
          "base_uri": "https://localhost:8080/"
        },
        "id": "FOSe9UgX-vk3",
        "outputId": "5b151e72-960a-4c3a-b9c6-c67c1d05eb46"
      },
      "execution_count": null,
      "outputs": [
        {
          "output_type": "stream",
          "name": "stdout",
          "text": [
            "1\n",
            "2\n",
            "3\n",
            "4\n",
            "5\n",
            "6\n",
            "7\n",
            "8\n",
            "9\n",
            "10\n",
            "1\n",
            "2\n",
            "3\n",
            "4\n",
            "5\n",
            "6\n",
            "7\n",
            "8\n",
            "9\n",
            "10\n"
          ]
        }
      ]
    },
    {
      "cell_type": "markdown",
      "source": [
        "# 튜플\n",
        "\n",
        "리스트와 비슷한 자료형\n",
        "* 다른점:\n",
        "  한 번 initialized가 되면 변경이 불가하다\n",
        "  \n",
        "  즉 tuple은 immutable 하고, list은 mutable하다\n",
        "\n",
        "* 튜플은 지정석과 같다 -> 한 번 지정 된 좌석은 변경 불가한 것과 같이, 튜플은 생성 후, 그 안의 데이터들을 바꾸지 못 한다.\n",
        "\n",
        "\n",
        "example tuple usage\n",
        "\n",
        "tuple = (1,2,3)"
      ],
      "metadata": {
        "id": "ICtWys0_ocDR"
      }
    },
    {
      "cell_type": "code",
      "source": [
        "test_list = [1,2,3,4,5] #리스트\n",
        "test_tuple = (1,2,3,4,5) #튜플\n",
        "\n",
        "print(type(test_list))\n",
        "print(type(test_tuple))"
      ],
      "metadata": {
        "colab": {
          "base_uri": "https://localhost:8080/"
        },
        "id": "moSLdECcss7e",
        "outputId": "7084b232-66c9-4df6-b75d-8d09e5cbaf64"
      },
      "execution_count": null,
      "outputs": [
        {
          "output_type": "stream",
          "name": "stdout",
          "text": [
            "<class 'list'>\n",
            "<class 'tuple'>\n"
          ]
        }
      ]
    },
    {
      "cell_type": "code",
      "source": [
        "#리스트와 비슷하게 인덱스로 element들을 접근 할 수 있습니다.\n",
        "print(\"test_list의 0th index element\",test_list[0])\n",
        "print(\"test_tuple 0th index element\",test_tuple[0])\n",
        "\n",
        "#len() 함수\n",
        "print(\"test_list의 길이\",len(test_list))\n",
        "print(\"test_tuple의 길이\",len(test_tuple))\n",
        "\n",
        "test_list[0] = 1 #리스트 안에 0th 인덱스에 있는 값을 1로 변경\n",
        "test_tuple[0] = 1 #튜플 안에 0th 인덱스에 있는 값을 1로 변경"
      ],
      "metadata": {
        "id": "A3KDuNQnoda1",
        "colab": {
          "base_uri": "https://localhost:8080/",
          "height": 245
        },
        "outputId": "21b8fb5d-45a9-4a52-fee4-b1307ddd578d"
      },
      "execution_count": null,
      "outputs": [
        {
          "output_type": "stream",
          "name": "stdout",
          "text": [
            "test_list의 0th index element 1\n",
            "test_tuple 0th index element 1\n",
            "test_list의 길이 5\n",
            "test_tuple의 길이 5\n"
          ]
        },
        {
          "output_type": "error",
          "ename": "TypeError",
          "evalue": "'tuple' object does not support item assignment",
          "traceback": [
            "\u001b[0;31m---------------------------------------------------------------------------\u001b[0m",
            "\u001b[0;31mTypeError\u001b[0m                                 Traceback (most recent call last)",
            "\u001b[0;32m<ipython-input-3-160e3269f4bb>\u001b[0m in \u001b[0;36m<cell line: 10>\u001b[0;34m()\u001b[0m\n\u001b[1;32m      8\u001b[0m \u001b[0;34m\u001b[0m\u001b[0m\n\u001b[1;32m      9\u001b[0m \u001b[0mtest_list\u001b[0m\u001b[0;34m[\u001b[0m\u001b[0;36m0\u001b[0m\u001b[0;34m]\u001b[0m \u001b[0;34m=\u001b[0m \u001b[0;36m1\u001b[0m \u001b[0;31m#리스트 안에 0th 인덱스에 있는 값을 1로 변경\u001b[0m\u001b[0;34m\u001b[0m\u001b[0;34m\u001b[0m\u001b[0m\n\u001b[0;32m---> 10\u001b[0;31m \u001b[0mtest_tuple\u001b[0m\u001b[0;34m[\u001b[0m\u001b[0;36m0\u001b[0m\u001b[0;34m]\u001b[0m \u001b[0;34m=\u001b[0m \u001b[0;36m1\u001b[0m \u001b[0;31m#튜플 안에 0th 인덱스에 있는 값을 1로 변경\u001b[0m\u001b[0;34m\u001b[0m\u001b[0;34m\u001b[0m\u001b[0m\n\u001b[0m",
            "\u001b[0;31mTypeError\u001b[0m: 'tuple' object does not support item assignment"
          ]
        }
      ]
    },
    {
      "cell_type": "markdown",
      "source": [
        "String은 파이썬에서 리스트의 형태를 가지고 있다. 따라서 string에도 리스트의 함수들이나, 루프를 쓸 수 있다."
      ],
      "metadata": {
        "id": "3ShqsBl07U2o"
      }
    },
    {
      "cell_type": "code",
      "source": [
        "word = 'Hi my name is Hangoo Kang'\n",
        "\n",
        "word2 = word[::-1]\n",
        "print(f\"word2 = {word2}\")\n",
        "\n",
        "word3 = word[0:5]\n",
        "print(f\"word3 = {word3}\")\n",
        "\n",
        "for i in word:\n",
        "  print(i)\n"
      ],
      "metadata": {
        "colab": {
          "base_uri": "https://localhost:8080/"
        },
        "id": "nMPGZONx7Tqf",
        "outputId": "af2f14c3-b3d7-4819-fa30-5acf1159fa85"
      },
      "execution_count": null,
      "outputs": [
        {
          "output_type": "stream",
          "name": "stdout",
          "text": [
            "word2 = gnaK oognaH si eman ym iH\n",
            "word3 = Hi my\n",
            "H\n",
            "i\n",
            " \n",
            "m\n",
            "y\n",
            " \n",
            "n\n",
            "a\n",
            "m\n",
            "e\n",
            " \n",
            "i\n",
            "s\n",
            " \n",
            "H\n",
            "a\n",
            "n\n",
            "g\n",
            "o\n",
            "o\n",
            " \n",
            "K\n",
            "a\n",
            "n\n",
            "g\n"
          ]
        }
      ]
    },
    {
      "cell_type": "markdown",
      "source": [
        "# Problems"
      ],
      "metadata": {
        "id": "EEC8bsPos_6J"
      }
    },
    {
      "cell_type": "markdown",
      "source": [
        "리스트 안에 있는 숫자 중 maximum 값과 minimum 값을 각각 프린트 하여라"
      ],
      "metadata": {
        "id": "dIs9q61TtiJy"
      }
    },
    {
      "cell_type": "code",
      "source": [
        "nums = [4, 7, 2, 9, 1, 6]\n",
        "nums.sort()\n",
        "print(nums[len(nums)-1])\n",
        "x = nums[0]\n",
        "\n",
        "nums.reverse()\n",
        "print(nums[len(nums)-1])\n",
        "\n"
      ],
      "metadata": {
        "id": "O-V78e5foeLz",
        "colab": {
          "base_uri": "https://localhost:8080/"
        },
        "outputId": "ea333e03-8b90-4859-83c1-52a3c70e0f77"
      },
      "execution_count": null,
      "outputs": [
        {
          "output_type": "stream",
          "name": "stdout",
          "text": [
            "9\n",
            "1\n"
          ]
        }
      ]
    },
    {
      "cell_type": "markdown",
      "source": [
        "이번엔 리스트에서 3번째로 큰 값을 구해보시오"
      ],
      "metadata": {
        "id": "wGbCy_qbASyT"
      }
    },
    {
      "cell_type": "code",
      "source": [
        "nums2 = [4, 7, 2, 9, 1, 6,9,0]\n",
        "nums2.sort()\n",
        "nums2.reverse()\n",
        "print(nums2[2])"
      ],
      "metadata": {
        "id": "j92Yr6skAXmr",
        "colab": {
          "base_uri": "https://localhost:8080/"
        },
        "outputId": "d86c0859-a45e-4a12-9987-cd413282c662"
      },
      "execution_count": null,
      "outputs": [
        {
          "output_type": "stream",
          "name": "stdout",
          "text": [
            "7\n"
          ]
        }
      ]
    },
    {
      "cell_type": "markdown",
      "source": [
        "사용자가 입력한 숫자들 중 짝수, 홀수 구분하여 리스트 형태로 저장하여 출력하시오."
      ],
      "metadata": {
        "id": "sdXKhQPJt0fS"
      }
    },
    {
      "cell_type": "code",
      "source": [
        "list2 = [3,4,8,5,6,4] #원하는 숫자들을 넣으시오\n",
        "even = []\n",
        "odd = []\n",
        "for i in list2:\n",
        "  if i % 2 == 0:\n",
        "    even.append(i)\n",
        "  elif i % 2 == 1:\n",
        "    odd.append(i)\n",
        "print(f'even list {even}')\n",
        "print(f'odd list {odd}')\n",
        "\n"
      ],
      "metadata": {
        "id": "RDGL-U-ruAXL",
        "colab": {
          "base_uri": "https://localhost:8080/"
        },
        "outputId": "56898c6e-e455-4253-bde3-fdd4fd5d7bf0"
      },
      "execution_count": null,
      "outputs": [
        {
          "output_type": "stream",
          "name": "stdout",
          "text": [
            "even list [4, 8, 6, 4]\n",
            "odd list [3, 5]\n"
          ]
        }
      ]
    },
    {
      "cell_type": "markdown",
      "source": [
        "당신은 또 다시 유능한 학교 선생님! 하지만 학생들의 성적 상태가 이상하다!!!\n",
        "\n",
        "물증을 위하여 학생들의 성적 평균을 구하려고 한다.\n",
        "\n",
        "당신의 코드 테스트를 위하여 임의로 5개의 성적을 만든 다음, 평균을 구하려고 한다.\n",
        "\n",
        "만약 평균이 80점을 넘어갈 경우 \"시험이 너무 쉬웠던 것 같으니 재시험을 치도록 하겠습니다.\"를 출력하시고,\n",
        "\n",
        "만약 평균이 80점 미만일 경우 \"시험 평균이 80점도 안 됐기 때문에, 80점이 될 수 있도록 커브를 드리겠습니다.\"를 출력 후\n",
        "\n",
        "평균을 80으로 맞춘 후, 각각의 점수가 80이 맞는지 확인 해보시오\n",
        "\n",
        "힌트 -> 리스트를 사용하시오"
      ],
      "metadata": {
        "id": "Y57HxUCU_Dz7"
      }
    },
    {
      "cell_type": "code",
      "source": [
        "grades = []\n",
        "total = 0\n",
        "for i in range(5):\n",
        "  grades.append(int(input('성적: ')))\n",
        "for i in grades:\n",
        "  total += i\n",
        "mean = total/len(grades)\n",
        "diff = 80 - mean\n",
        "if mean > 80:\n",
        "  print('시험이 너무 쉬웠던 것 같으니 재시험을 치도록 하겠습니다.')\n",
        "elif mean < 80:\n",
        "  print('시험 평균이 80점도 안 됐기 때문에, 80점이 될 수 있도록 커브를 드리겠습니다.')\n",
        "  for i in range(len(grades)):\n",
        "    grades[i] += diff\n",
        "    print(i)\n",
        "print(grades)\n",
        "print()\n",
        "#print(grades)\n",
        "#print(total)\n",
        "#print(average)\n",
        "\n",
        "\n"
      ],
      "metadata": {
        "id": "Z4A6SMp__Rqw",
        "colab": {
          "base_uri": "https://localhost:8080/"
        },
        "outputId": "5d28c720-c606-4ab0-c24d-7d4d43aca4bd"
      },
      "execution_count": null,
      "outputs": [
        {
          "output_type": "stream",
          "name": "stdout",
          "text": [
            "성적: 65\n",
            "성적: 60\n",
            "성적: 70\n",
            "성적: 80\n",
            "성적: 90\n",
            "시험 평균이 80점도 안 됐기 때문에, 80점이 될 수 있도록 커브를 드리겠습니다.\n",
            "0\n",
            "1\n",
            "2\n",
            "3\n",
            "4\n",
            "[72.0, 67.0, 77.0, 87.0, 97.0]\n",
            "73.0\n"
          ]
        }
      ]
    },
    {
      "cell_type": "markdown",
      "source": [
        "아래의 문제를 풀어보시오\n",
        "\n",
        " Write a for loop such that:\n",
        "\n",
        " For each elements in the list list_example,\n",
        "\n",
        " If the element is divisible by 6, divide the element by 6\n",
        "\n",
        " Else if the element is divisible by 3, divide the element by 3 and then add 4\n",
        "\n",
        " Else if the element is divisible by 2, subtract 10.\n",
        "\n",
        " Else, square the element."
      ],
      "metadata": {
        "id": "92kgPb7g_TcW"
      }
    },
    {
      "cell_type": "code",
      "source": [
        "# Write a for loop such that:\n",
        "# For each elements in the list list_example,\n",
        "# If the element is divisible by 6, divide the element by 6\n",
        "# Else if the element is divisible by 3, divide the element by 3 and then add 4\n",
        "# Else if the element is divisible by 2, subtract 10.\n",
        "# Else, square the element.\n",
        "\n",
        "# TODO: Make the cell return 'True'.\n",
        "\n",
        "l = [3, 5, 10, 15, 20, 25, 30, 35, 40, 45, 50]\n",
        "\n",
        "# YOUR CODE HERE #\n",
        "for i in range(len(l)):\n",
        "  if l[i] % 6 == 0:\n",
        "    l[i] = l[i] / 6\n",
        "  elif l[i] % 3 == 0:\n",
        "    l[i] = l[i] / 3 + 4\n",
        "  elif l[i] % 2 == 0:\n",
        "    l[i] = l[i] - 10\n",
        "  else: l[i] = l[i]**2\n",
        "\n",
        "# END OF CODE #\n",
        "\n",
        "# Do not modify below\n",
        "l = [int(i) for i in l]\n",
        "l == [5, 25, 0, 9, 10, 625, 5, 1225, 30, 19, 40]"
      ],
      "metadata": {
        "id": "OsCdA69I_S1T",
        "colab": {
          "base_uri": "https://localhost:8080/"
        },
        "outputId": "959c368e-93a8-4539-a557-3f9b579b5f15"
      },
      "execution_count": null,
      "outputs": [
        {
          "output_type": "execute_result",
          "data": {
            "text/plain": [
              "True"
            ]
          },
          "metadata": {},
          "execution_count": 67
        }
      ]
    },
    {
      "cell_type": "markdown",
      "source": [
        "주어진 리스트에서 두 번째 자리 값고 세 번째 자리 값을 바꿔보시오"
      ],
      "metadata": {
        "id": "Rr6g-Ysk_tvw"
      }
    },
    {
      "cell_type": "code",
      "source": [
        "list1 = [1,2,3,4]\n",
        "\n",
        "# YOUR CODE HERE #\n",
        "second = list1[1]\n",
        "third = list1[2]\n",
        "list1[1] = third\n",
        "list1[2] = second\n",
        "\n",
        "# END OF CODE #\n",
        "\n",
        "print(list1)"
      ],
      "metadata": {
        "colab": {
          "base_uri": "https://localhost:8080/"
        },
        "id": "QCMtjv4QAB6T",
        "outputId": "bde57aee-5441-4b40-a15c-87435468f9b3"
      },
      "execution_count": null,
      "outputs": [
        {
          "output_type": "stream",
          "name": "stdout",
          "text": [
            "[1, 3, 2, 4]\n"
          ]
        }
      ]
    },
    {
      "cell_type": "code",
      "source": [],
      "metadata": {
        "id": "2vX7Eg65AK1U"
      },
      "execution_count": null,
      "outputs": []
    }
  ]
}