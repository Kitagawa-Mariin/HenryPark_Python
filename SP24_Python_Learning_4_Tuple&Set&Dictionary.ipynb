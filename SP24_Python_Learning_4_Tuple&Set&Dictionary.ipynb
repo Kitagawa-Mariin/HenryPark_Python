{
  "nbformat": 4,
  "nbformat_minor": 0,
  "metadata": {
    "colab": {
      "provenance": [],
      "include_colab_link": true
    },
    "kernelspec": {
      "name": "python3",
      "display_name": "Python 3"
    },
    "language_info": {
      "name": "python"
    }
  },
  "cells": [
    {
      "cell_type": "markdown",
      "metadata": {
        "id": "view-in-github",
        "colab_type": "text"
      },
      "source": [
        "<a href=\"https://colab.research.google.com/github/Kitagawa-Mariin/HenryPark_Python/blob/Python_Learning/SP24_Python_Learning_4_Tuple%26Set%26Dictionary.ipynb\" target=\"_parent\"><img src=\"https://colab.research.google.com/assets/colab-badge.svg\" alt=\"Open In Colab\"/></a>"
      ]
    },
    {
      "cell_type": "markdown",
      "source": [
        "#지난주 복습"
      ],
      "metadata": {
        "id": "TuSgPIdI67y_"
      }
    },
    {
      "cell_type": "markdown",
      "source": [
        "## List"
      ],
      "metadata": {
        "id": "f9vKv0eJ7Dg3"
      }
    },
    {
      "cell_type": "markdown",
      "source": [
        "리스트는 사물함과 같은 구조! 원하는 곳에 원하는 것을 넣어서 저장한다."
      ],
      "metadata": {
        "id": "IK1wsx4a7X5V"
      }
    },
    {
      "cell_type": "code",
      "source": [
        "list1 = [0,1,2,3] # <- 이렇게 대괄호에 원하는 값을 집어넣으면 된다"
      ],
      "metadata": {
        "id": "L-AzR2Kn7dwT"
      },
      "execution_count": null,
      "outputs": []
    },
    {
      "cell_type": "code",
      "source": [
        "# 루프를 돌릴 수 있다\n",
        "\n",
        "for i in list1:\n",
        "  print(i)\n",
        "\n",
        "# same to\n",
        "\n",
        "for i in range(len(list1)):\n",
        "  print(list1[i])\n"
      ],
      "metadata": {
        "colab": {
          "base_uri": "https://localhost:8080/"
        },
        "id": "Szo12bZk70P9",
        "outputId": "f02e61b5-7b92-4d40-8ef3-47df4e804601"
      },
      "execution_count": null,
      "outputs": [
        {
          "output_type": "stream",
          "name": "stdout",
          "text": [
            "0\n",
            "1\n",
            "2\n",
            "3\n",
            "0\n",
            "1\n",
            "2\n",
            "3\n"
          ]
        }
      ]
    },
    {
      "cell_type": "code",
      "source": [
        "a = [1,2,3,4,5,6,7,8,9,10]\n",
        "\n",
        "print(a[3:])\n",
        "\n",
        "print(a[:6])\n",
        "\n",
        "# 리스트 안에 있는 element들을 원하는 간격맏 건너 뛰면서 수 access 할 수 있습니다\n",
        "print(a[0:10:2])\n",
        "\n",
        "# 리스트 안에 있는 element들의 순서를 뒤집을 수 있습니다\n",
        "print(a[::-1])"
      ],
      "metadata": {
        "id": "kTss1OR-8nhK",
        "colab": {
          "base_uri": "https://localhost:8080/"
        },
        "outputId": "03cc267c-362d-43ab-9243-e5413dccec4e"
      },
      "execution_count": null,
      "outputs": [
        {
          "output_type": "stream",
          "name": "stdout",
          "text": [
            "[4, 5, 6, 7, 8, 9, 10]\n",
            "[1, 2, 3, 4, 5, 6]\n",
            "[1, 3, 5, 7, 9]\n",
            "[10, 9, 8, 7, 6, 5, 4, 3, 2, 1]\n"
          ]
        }
      ]
    },
    {
      "cell_type": "code",
      "source": [
        "grocery = ['apple', 'banana','kiwi']\n",
        "\n",
        "#1\n",
        "if 'apple' in grocery:\n",
        "  print(\"Yes\")\n",
        "else:\n",
        "  print(\"No\")\n",
        "\n",
        "#2\n",
        "\n",
        "if 'pineapple' not in grocery:\n",
        "    print(\"Yes\")\n",
        "else:\n",
        "    print(\"No\")"
      ],
      "metadata": {
        "id": "WpdiszM99H7A",
        "colab": {
          "base_uri": "https://localhost:8080/"
        },
        "outputId": "be21912e-a7ee-4bec-9fec-8b05db668f50"
      },
      "execution_count": null,
      "outputs": [
        {
          "output_type": "stream",
          "name": "stdout",
          "text": [
            "Yes\n",
            "Yes\n"
          ]
        }
      ]
    },
    {
      "cell_type": "code",
      "source": [
        "\n",
        "# 두 리스트를 붙이기\n",
        "a = [1,2,3,4]\n",
        "b = [5,6,7,8]\n",
        "print(a + b)\n",
        "\n",
        "print(a * 2)\n",
        "print(a + a)\n",
        "\n",
        "print(a * 0)"
      ],
      "metadata": {
        "id": "CI35YGNj9NX_",
        "colab": {
          "base_uri": "https://localhost:8080/"
        },
        "outputId": "8addb7ab-56cb-445b-9586-2f9cc5f08f8b"
      },
      "execution_count": null,
      "outputs": [
        {
          "output_type": "stream",
          "name": "stdout",
          "text": [
            "[1, 2, 3, 4, 5, 6, 7, 8]\n",
            "[1, 2, 3, 4, 1, 2, 3, 4]\n",
            "[1, 2, 3, 4, 1, 2, 3, 4]\n",
            "[]\n"
          ]
        }
      ]
    },
    {
      "cell_type": "code",
      "source": [
        "CS_course = []\n",
        "\n",
        "# 'cs125', 'cs173', 'cs225' 를 CS_course 리스트에 넣는 법\n",
        "CS_course.append('cs125')\n",
        "CS_course.append('cs173')\n",
        "CS_course.append('cs225')\n",
        "\n",
        "print(CS_course)\n",
        "\n",
        "# cs125를 기존 리스트에서 빼고 'cs125', 'cs128'을 추가하기\n",
        "CS_course.remove('cs125')\n",
        "CS_course = ['cs124', 'cs128'] + CS_course\n",
        "\n",
        "print(CS_course)\n",
        "\n",
        "# 리스트의 마지막 element를 지우고 싶을땐 pop을 사용한다\n",
        "last_element = CS_course.pop()\n",
        "print(\"Removed element:\", last_element)\n",
        "print(\"Modified CS_course:\", CS_course)"
      ],
      "metadata": {
        "id": "q6RujxXD9RPG",
        "colab": {
          "base_uri": "https://localhost:8080/"
        },
        "outputId": "966a648d-2cb1-43f0-beff-bd45b0078a9c"
      },
      "execution_count": null,
      "outputs": [
        {
          "output_type": "stream",
          "name": "stdout",
          "text": [
            "['cs125', 'cs173', 'cs225']\n",
            "['cs124', 'cs128', 'cs173', 'cs225']\n",
            "Removed element: cs225\n",
            "Modified CS_course: ['cs124', 'cs128', 'cs173']\n"
          ]
        }
      ]
    },
    {
      "cell_type": "code",
      "source": [
        "sentence = \"Hello my name.is.John.I am UIUC student\"\n",
        "words = sentence.split('.')\n",
        "print(words)"
      ],
      "metadata": {
        "id": "mAiGhsdj9UQ-",
        "colab": {
          "base_uri": "https://localhost:8080/"
        },
        "outputId": "55d2c319-0075-4316-8374-c9577e071a57"
      },
      "execution_count": null,
      "outputs": [
        {
          "output_type": "stream",
          "name": "stdout",
          "text": [
            "['Hello my name', 'is', 'John', 'I am UIUC student']\n"
          ]
        }
      ]
    },
    {
      "cell_type": "markdown",
      "source": [
        "###🎯 Challenge 1\n",
        "\n",
        "이 리스트에서 문자열의 길이가 8을 넘어가는 것 들을 새로운 리스트에 저장하시오."
      ],
      "metadata": {
        "id": "SWueLPmL7QM6"
      }
    },
    {
      "cell_type": "code",
      "execution_count": null,
      "metadata": {
        "id": "FPNdF1V06w0q",
        "colab": {
          "base_uri": "https://localhost:8080/"
        },
        "outputId": "615dbfec-8571-4ba7-f36b-2c649b2f77b8"
      },
      "outputs": [
        {
          "output_type": "stream",
          "name": "stdout",
          "text": [
            "['observation', 'accumulation', 'essential', 'different', 'spontaneous', 'inappropriate', 'development', 'investment', 'neighborhood']\n"
          ]
        }
      ],
      "source": [
        "word_list = [\"clue\", \"regard\", \"battery\", \"observation\", \"news\", \"peasant\", \"alcohol\", \"hang\", \"raise\", \"bitter\", \"desert\", \"accumulation\"\n",
        ",\"essential\", \"rainbow\", \"base\", \"fresh\", \"unfair\", \"soup\", \"economic\", \"piano\", \"different\", \"mercy\", \"physics\", \"drink\", \"tumour\"\n",
        ",\"spontaneous\", \"sector\", \"inappropriate\", \"development\", \"investment\", \"child\", \"sight\", \"enhance\", \"blonde\", \"dine\", \"fairy\"\n",
        ",\"rocket\", \"gradual\", \"subject\", \"offense\", \"waste\", \"branch\", \"necklace\", \"neighborhood\", \"failure\", \"behavior\", \"anger\", \"host\"\n",
        ",\"solution\", \"scrap\"]\n",
        "\n",
        "# 코드 시작\n",
        "new_list = [ ]\n",
        "for i in range(len(word_list)):\n",
        "  if len(word_list[i]) > 8:\n",
        "    new_list.append(word_list[i])\n",
        "\n",
        "print(new_list)"
      ]
    },
    {
      "cell_type": "markdown",
      "source": [
        "###🎯 Challenge 2\n",
        "\n",
        "다음은 이 리스트에서 각 엘레멘트의 길이가 짝수인지 홀수인지 구별을 한 다음, 짝수인 애들은 짝수들끼리, 홀수들은 홀수들끼리 리스트에 저장하시오"
      ],
      "metadata": {
        "id": "aDyaFGsW9rwS"
      }
    },
    {
      "cell_type": "code",
      "source": [
        "word_list = [\"clue\", \"regard\", \"battery\", \"observation\", \"news\", \"peasant\", \"alcohol\", \"hang\", \"raise\", \"bitter\", \"desert\", \"accumulation\"\n",
        ",\"essential\", \"rainbow\", \"base\", \"fresh\", \"unfair\", \"soup\", \"economic\", \"piano\", \"different\", \"mercy\", \"physics\", \"drink\", \"tumour\"\n",
        ",\"spontaneous\", \"sector\", \"inappropriate\", \"development\", \"investment\", \"child\", \"sight\", \"enhance\", \"blonde\", \"dine\", \"fairy\"\n",
        ",\"rocket\", \"gradual\", \"subject\", \"offense\", \"waste\", \"branch\", \"necklace\", \"neighborhood\", \"failure\", \"behavior\", \"anger\", \"host\"\n",
        ",\"solution\", \"scrap\"]\n",
        "\n",
        "# 코드 시작\n",
        "odd = [ ]\n",
        "even = [ ]\n",
        "for i in range(len(word_list)):\n",
        "  if len(word_list[i]) % 2 == 0:\n",
        "    even.append(word_list[i])\n",
        "  elif len(word_list[i]) % 2 == 1:\n",
        "    odd.append(word_list[i])\n",
        "print(odd)\n",
        "print(even)"
      ],
      "metadata": {
        "id": "44qbsVZi94wd",
        "colab": {
          "base_uri": "https://localhost:8080/"
        },
        "outputId": "3a0bdcfc-4d8a-4aac-8739-73d8e3b33190"
      },
      "execution_count": null,
      "outputs": [
        {
          "output_type": "stream",
          "name": "stdout",
          "text": [
            "['battery', 'observation', 'peasant', 'alcohol', 'raise', 'essential', 'rainbow', 'fresh', 'piano', 'different', 'mercy', 'physics', 'drink', 'spontaneous', 'inappropriate', 'development', 'child', 'sight', 'enhance', 'fairy', 'gradual', 'subject', 'offense', 'waste', 'failure', 'anger', 'scrap']\n",
            "['clue', 'regard', 'news', 'hang', 'bitter', 'desert', 'accumulation', 'base', 'unfair', 'soup', 'economic', 'tumour', 'sector', 'investment', 'blonde', 'dine', 'rocket', 'branch', 'necklace', 'neighborhood', 'behavior', 'host', 'solution']\n"
          ]
        }
      ]
    },
    {
      "cell_type": "markdown",
      "source": [
        "###🎯 Challenge 3\n",
        "\n",
        "리스트의 두 번째 자리와 세 번째 자리를 바꾸시오"
      ],
      "metadata": {
        "id": "he2mG5LF9bKw"
      }
    },
    {
      "cell_type": "code",
      "source": [
        "list1 = [1,2,3,4]\n",
        "second = 0\n",
        "third = 0\n",
        "# YOUR CODE HERE #\n",
        "\n",
        "# END OF CODE #\n",
        "\n",
        "print(list1)"
      ],
      "metadata": {
        "id": "zYs2a5ix9apj",
        "colab": {
          "base_uri": "https://localhost:8080/"
        },
        "outputId": "6eeb19cd-3e4c-4a2f-b965-ec3d5bfa0735"
      },
      "execution_count": null,
      "outputs": [
        {
          "output_type": "stream",
          "name": "stdout",
          "text": [
            "[1, 2, 3, 4]\n"
          ]
        }
      ]
    },
    {
      "cell_type": "markdown",
      "source": [
        "# Tuple\n",
        "\n",
        "리스트와 비슷한 자료형\n",
        "* 다른점:\n",
        "  한 번 initialized가 되면 변경이 불가하다\n",
        "  \n",
        "  즉 tuple은 immutable 하고, list은 mutable하다\n",
        "\n",
        "* 튜플은 지정석과 같다 -> 한 번 지정 된 좌석은 변경 불가한 것과 같이, 튜플은 생성 후, 그 안의 데이터들을 바꾸지 못 한다.\n",
        "\n",
        "\n",
        "example tuple usage\n",
        "\n",
        "tuple = (1,2,3)"
      ],
      "metadata": {
        "id": "2CO-m18y1oVB"
      }
    },
    {
      "cell_type": "code",
      "source": [
        "test_list = [1,2,3,4,5] #리스트\n",
        "test_tuple = (1,2,3,4,5) #튜플\n",
        "\n",
        "print(type(test_list))\n",
        "print(type(test_tuple))"
      ],
      "metadata": {
        "colab": {
          "base_uri": "https://localhost:8080/"
        },
        "id": "LznPi5nj1rJD",
        "outputId": "0769f92b-68d4-478a-e0f1-d542f4fc8be8"
      },
      "execution_count": null,
      "outputs": [
        {
          "output_type": "stream",
          "name": "stdout",
          "text": [
            "<class 'list'>\n",
            "<class 'tuple'>\n"
          ]
        }
      ]
    },
    {
      "cell_type": "code",
      "source": [
        "#리스트와 비슷하게 인덱스로 element들을 접근 할 수 있습니다.\n",
        "print(\"test_list의 0th index element\",test_list[0])\n",
        "print(\"test_tuple 0th index element\",test_tuple[0])\n",
        "\n",
        "#len() 함수\n",
        "print(\"test_list의 길이\",len(test_list))\n",
        "print(\"test_tuple의 길이\",len(test_tuple))\n",
        "\n",
        "test_list[0] = 1 #리스트 안에 0th 인덱스에 있는 값을 1로 변경\n",
        "test_tuple[0] = 1 #튜플 안에 0th 인덱스에 있는 값을 1로 변경"
      ],
      "metadata": {
        "colab": {
          "base_uri": "https://localhost:8080/",
          "height": 245
        },
        "id": "FZDDApuh2pKx",
        "outputId": "4b332818-1e99-468c-92b5-8bd6ed6d94a2"
      },
      "execution_count": null,
      "outputs": [
        {
          "output_type": "stream",
          "name": "stdout",
          "text": [
            "test_list의 0th index element 1\n",
            "test_tuple 0th index element 1\n",
            "test_list의 길이 5\n",
            "test_tuple의 길이 5\n"
          ]
        },
        {
          "output_type": "error",
          "ename": "TypeError",
          "evalue": "'tuple' object does not support item assignment",
          "traceback": [
            "\u001b[0;31m---------------------------------------------------------------------------\u001b[0m",
            "\u001b[0;31mTypeError\u001b[0m                                 Traceback (most recent call last)",
            "\u001b[0;32m<ipython-input-16-160e3269f4bb>\u001b[0m in \u001b[0;36m<cell line: 10>\u001b[0;34m()\u001b[0m\n\u001b[1;32m      8\u001b[0m \u001b[0;34m\u001b[0m\u001b[0m\n\u001b[1;32m      9\u001b[0m \u001b[0mtest_list\u001b[0m\u001b[0;34m[\u001b[0m\u001b[0;36m0\u001b[0m\u001b[0;34m]\u001b[0m \u001b[0;34m=\u001b[0m \u001b[0;36m1\u001b[0m \u001b[0;31m#리스트 안에 0th 인덱스에 있는 값을 1로 변경\u001b[0m\u001b[0;34m\u001b[0m\u001b[0;34m\u001b[0m\u001b[0m\n\u001b[0;32m---> 10\u001b[0;31m \u001b[0mtest_tuple\u001b[0m\u001b[0;34m[\u001b[0m\u001b[0;36m0\u001b[0m\u001b[0;34m]\u001b[0m \u001b[0;34m=\u001b[0m \u001b[0;36m1\u001b[0m \u001b[0;31m#튜플 안에 0th 인덱스에 있는 값을 1로 변경\u001b[0m\u001b[0;34m\u001b[0m\u001b[0;34m\u001b[0m\u001b[0m\n\u001b[0m",
            "\u001b[0;31mTypeError\u001b[0m: 'tuple' object does not support item assignment"
          ]
        }
      ]
    },
    {
      "cell_type": "markdown",
      "source": [
        "String은 파이썬에서 리스트의 형태를 가지고 있다. 따라서 string에도 리스트의 함수들이나, 루프를 쓸 수 있다."
      ],
      "metadata": {
        "id": "6rWLUk1Z2ur1"
      }
    },
    {
      "cell_type": "code",
      "source": [
        "word = 'Hi my name is Hangoo Kang'\n",
        "\n",
        "word2 = word[::-1]\n",
        "print(f\"word2 = {word2}\")\n",
        "\n",
        "word3 = word[0:5]\n",
        "print(f\"word3 = {word3}\")\n",
        "\n",
        "for i in word:\n",
        "  print(i)\n"
      ],
      "metadata": {
        "colab": {
          "base_uri": "https://localhost:8080/"
        },
        "id": "oOHLcmN82q0p",
        "outputId": "6475a01d-4cfe-4a67-ab6f-f7cdf288c4a3"
      },
      "execution_count": null,
      "outputs": [
        {
          "output_type": "stream",
          "name": "stdout",
          "text": [
            "word2 = gnaK oognaH si eman ym iH\n",
            "word3 = Hi my\n",
            "H\n",
            "i\n",
            " \n",
            "m\n",
            "y\n",
            " \n",
            "n\n",
            "a\n",
            "m\n",
            "e\n",
            " \n",
            "i\n",
            "s\n",
            " \n",
            "H\n",
            "a\n",
            "n\n",
            "g\n",
            "o\n",
            "o\n",
            " \n",
            "K\n",
            "a\n",
            "n\n",
            "g\n"
          ]
        }
      ]
    },
    {
      "cell_type": "markdown",
      "source": [
        "# Set & Dictionary"
      ],
      "metadata": {
        "id": "DJ1NGLh426jz"
      }
    },
    {
      "cell_type": "markdown",
      "source": [
        "## Set\n",
        "\n",
        "리스트는 사물함, 튜플은 지정석이라 생각하면, 셑은 짐 보따리라 생각하면 된다.\n",
        "\n",
        "Set은 인덱스가 없으며, 세트 안에 어떤 엘레멘트가 있는지 알 수 있다.\n",
        "\n",
        "Set 특징\n",
        "\n",
        "\n",
        "*   No duplicate\n",
        "*   No index\n",
        "\n",
        "사용 예시:\n",
        "\n",
        "\n",
        "*   출석체크: 학생이 교실에 들어왔는지 확인할 때\n",
        "*   할 일 체크: 오늘 하루 해야 할 일 저장할 때\n",
        "\n",
        "이와같이 \"몇 번\" 했는지는 알 필요 없이, 존재 하는지에 대한 정보만 필요할 때 Set을 쓴다\n",
        "\n",
        "set_name = {elements}\n",
        "\n",
        "\n",
        "\n"
      ],
      "metadata": {
        "id": "WNxn4Q042-Rq"
      }
    },
    {
      "cell_type": "code",
      "source": [
        "# Set initialization\n",
        "\n",
        "attend = {'hanook2', 'someone123', 'hello3'}\n",
        "\n",
        "for i in range(3):\n",
        "  uid = input(\"plug in your uid for attendance \")\n",
        "  if uid not in attend:\n",
        "    attend.add(uid)\n",
        "\n",
        "for i in attend:\n",
        "  print(i)"
      ],
      "metadata": {
        "colab": {
          "base_uri": "https://localhost:8080/"
        },
        "id": "LCdNIoGJ2sgP",
        "outputId": "116eee91-b8d7-4814-de7c-fb3a0b7072cf"
      },
      "execution_count": null,
      "outputs": [
        {
          "output_type": "stream",
          "name": "stdout",
          "text": [
            "plug in your uid for attendance \n",
            "plug in your uid for attendance \n",
            "plug in your uid for attendance \n",
            "\n",
            "hanook2\n",
            "hello3\n",
            "someone123\n"
          ]
        }
      ]
    },
    {
      "cell_type": "markdown",
      "source": [
        "### Concatenation"
      ],
      "metadata": {
        "id": "92qf0lIDBkMG"
      }
    },
    {
      "cell_type": "markdown",
      "source": [],
      "metadata": {
        "id": "0TJKHMR0Y6vq"
      }
    },
    {
      "cell_type": "code",
      "source": [
        "# when we want to add two sets\n",
        "\n",
        "more_students = {'a1','a2','a3'}\n",
        "\n",
        "# Use update\n",
        "\n",
        "attend.update(more_students)\n",
        "print(attend)"
      ],
      "metadata": {
        "colab": {
          "base_uri": "https://localhost:8080/"
        },
        "id": "JfmW2T9b_Njt",
        "outputId": "eb2c090c-6ce6-44a1-d2be-dc79511e658f"
      },
      "execution_count": null,
      "outputs": [
        {
          "output_type": "stream",
          "name": "stdout",
          "text": [
            "{'', 'a1', 'hello3', 'someone123', 'hanook2', 'a2', 'a3'}\n"
          ]
        }
      ]
    },
    {
      "cell_type": "code",
      "source": [
        "# list도 추가할 수 있습니다\n",
        "\n",
        "more_and_more = ['b1','b2']\n",
        "\n",
        "attend.update(more_and_more)\n",
        "print(attend)"
      ],
      "metadata": {
        "colab": {
          "base_uri": "https://localhost:8080/"
        },
        "id": "0ksyiYBn_xk7",
        "outputId": "c69a798b-c442-43cb-d2bd-6b991c3cc7e8"
      },
      "execution_count": null,
      "outputs": [
        {
          "output_type": "stream",
          "name": "stdout",
          "text": [
            "{'', 'a2', 'b1', 'a1', 'hello3', 'someone123', 'a3', 'hanook2', 'b2'}\n"
          ]
        }
      ]
    },
    {
      "cell_type": "code",
      "source": [
        "# add를 쓰면 어떻게 되나요?\n",
        "\n",
        "example = ['c1','c2']\n",
        "\n",
        "attend.add(example)\n",
        "print(attend)"
      ],
      "metadata": {
        "colab": {
          "base_uri": "https://localhost:8080/",
          "height": 193
        },
        "id": "vELvul0SAqFu",
        "outputId": "0d3df07b-85c9-4200-8037-02d0336253f7"
      },
      "execution_count": null,
      "outputs": [
        {
          "output_type": "error",
          "ename": "TypeError",
          "evalue": "unhashable type: 'list'",
          "traceback": [
            "\u001b[0;31m---------------------------------------------------------------------------\u001b[0m",
            "\u001b[0;31mTypeError\u001b[0m                                 Traceback (most recent call last)",
            "\u001b[0;32m<ipython-input-21-46f6f8563dbe>\u001b[0m in \u001b[0;36m<cell line: 5>\u001b[0;34m()\u001b[0m\n\u001b[1;32m      3\u001b[0m \u001b[0mexample\u001b[0m \u001b[0;34m=\u001b[0m \u001b[0;34m[\u001b[0m\u001b[0;34m'c1'\u001b[0m\u001b[0;34m,\u001b[0m\u001b[0;34m'c2'\u001b[0m\u001b[0;34m]\u001b[0m\u001b[0;34m\u001b[0m\u001b[0;34m\u001b[0m\u001b[0m\n\u001b[1;32m      4\u001b[0m \u001b[0;34m\u001b[0m\u001b[0m\n\u001b[0;32m----> 5\u001b[0;31m \u001b[0mattend\u001b[0m\u001b[0;34m.\u001b[0m\u001b[0madd\u001b[0m\u001b[0;34m(\u001b[0m\u001b[0mexample\u001b[0m\u001b[0;34m)\u001b[0m\u001b[0;34m\u001b[0m\u001b[0;34m\u001b[0m\u001b[0m\n\u001b[0m\u001b[1;32m      6\u001b[0m \u001b[0mprint\u001b[0m\u001b[0;34m(\u001b[0m\u001b[0mattend\u001b[0m\u001b[0;34m)\u001b[0m\u001b[0;34m\u001b[0m\u001b[0;34m\u001b[0m\u001b[0m\n",
            "\u001b[0;31mTypeError\u001b[0m: unhashable type: 'list'"
          ]
        }
      ]
    },
    {
      "cell_type": "markdown",
      "source": [
        "### Remove"
      ],
      "metadata": {
        "id": "s8OaL-9EBKIl"
      }
    },
    {
      "cell_type": "code",
      "source": [
        "# 특정 값을 지우고 싶을 경우엔 remove를 활용하면 됩니다.\n",
        "\n",
        "thisset = {\"apple\", \"banana\", \"cherry\"}\n",
        "\n",
        "thisset.remove(\"banana\")\n",
        "\n",
        "print(thisset)"
      ],
      "metadata": {
        "colab": {
          "base_uri": "https://localhost:8080/"
        },
        "id": "ln_GbCwBA0Uk",
        "outputId": "84d0566a-baf2-427a-ba65-14ae9e86308e"
      },
      "execution_count": null,
      "outputs": [
        {
          "output_type": "stream",
          "name": "stdout",
          "text": [
            "{'cherry', 'apple'}\n"
          ]
        }
      ]
    },
    {
      "cell_type": "markdown",
      "source": [
        "리스트와 같이 pop을 써서 마지막 엘레멘트를 지울 수 있습니다."
      ],
      "metadata": {
        "id": "1oJ-vhlgBfba"
      }
    },
    {
      "cell_type": "code",
      "source": [
        "element = attend.pop()\n",
        "\n",
        "print(element)\n",
        "\n",
        "print(attend)"
      ],
      "metadata": {
        "colab": {
          "base_uri": "https://localhost:8080/"
        },
        "id": "QGFeMK6rBQwa",
        "outputId": "e8b8e843-9778-461e-8643-4d970e5e3747"
      },
      "execution_count": null,
      "outputs": [
        {
          "output_type": "stream",
          "name": "stdout",
          "text": [
            "\n",
            "{'a2', 'b1', 'a1', 'hello3', 'someone123', 'a3', 'hanook2', 'b2'}\n"
          ]
        }
      ]
    },
    {
      "cell_type": "markdown",
      "source": [
        "만약 set자체를 비우고 싶은 경우 clear를 쓰면 됩니다."
      ],
      "metadata": {
        "id": "Ho8Ozo86Cd2u"
      }
    },
    {
      "cell_type": "code",
      "source": [
        "attend.clear()"
      ],
      "metadata": {
        "id": "16lRM3miCIua"
      },
      "execution_count": null,
      "outputs": []
    },
    {
      "cell_type": "code",
      "source": [
        "print(attend)"
      ],
      "metadata": {
        "colab": {
          "base_uri": "https://localhost:8080/"
        },
        "id": "I887gmN-CqP_",
        "outputId": "77ca2f02-145b-4905-c76c-b7e91642641c"
      },
      "execution_count": null,
      "outputs": [
        {
          "output_type": "stream",
          "name": "stdout",
          "text": [
            "set()\n"
          ]
        }
      ]
    },
    {
      "cell_type": "markdown",
      "source": [
        "## Dictionary (also called map in other languages)\n",
        "\n",
        "dictionary는 말 그대로 사전같은 자료구조체다.\n",
        "\n",
        "단어 : 뜻 의 느낌으로\n",
        "\n",
        "key : value의 형태를 가지고 있다. 따라서 특정 key의 값이 value가 되는 것이다.\n",
        "\n",
        "사용 예시:\n",
        "\n",
        "\n",
        "\n",
        "*   마트에서 장 볼때 어떤 재료를 몇 개씩 샀는지 저장하기 위하여\n",
        "*   uid와 uin을 저장하기 위하여\n",
        "*   전에 말했다시피, 게임에선 특정 유저 아이디와 그에 상응하는 직업이나 특징들을 저장하기 위하여 등등\n",
        "\n"
      ],
      "metadata": {
        "id": "bWuUPz-gCvSm"
      }
    },
    {
      "cell_type": "code",
      "source": [
        "person = {\n",
        "  \"Sonny\": 134526785,\n",
        "  \"Kane\": 89898632,\n",
        "  \"Hi\": 25747645\n",
        "}"
      ],
      "metadata": {
        "id": "j3nuyaZ9EDOB"
      },
      "execution_count": null,
      "outputs": []
    },
    {
      "cell_type": "markdown",
      "source": [
        "아니면 나중에 추가적으로 값을 넣을 수 있다\n",
        "\n",
        "dictionary_name['element_name'] = element value"
      ],
      "metadata": {
        "id": "xLf7UrnDEEhc"
      }
    },
    {
      "cell_type": "code",
      "source": [
        "person['hangook2'] = 1234567\n",
        "\n",
        "person['hello1'] = 1021333\n",
        "\n",
        "print(person)"
      ],
      "metadata": {
        "colab": {
          "base_uri": "https://localhost:8080/"
        },
        "id": "6_ZZZxqmCrG_",
        "outputId": "8e616261-82d7-4574-917e-44694aa4ba24"
      },
      "execution_count": null,
      "outputs": [
        {
          "output_type": "stream",
          "name": "stdout",
          "text": [
            "{'Sonny': 134526785, 'Kane': 89898632, 'Hi': 25747645, 'hangook2': 1234567, 'hello1': 1021333}\n"
          ]
        }
      ]
    },
    {
      "cell_type": "markdown",
      "source": [
        "\n",
        "\n",
        "여기서 특정 값을 찾고 싶은 경우,\n",
        "\n",
        "dictionary_name.get(key) 혹은 그냥 dictionary_name[key]를 하면 된다"
      ],
      "metadata": {
        "id": "_uC0dTLoEB1E"
      }
    },
    {
      "cell_type": "code",
      "source": [
        "print(person['hangook2'])\n",
        "\n",
        "print(person.get('hangook2'))"
      ],
      "metadata": {
        "colab": {
          "base_uri": "https://localhost:8080/"
        },
        "id": "D3y_m1IhDnpO",
        "outputId": "842828f1-1cb5-4e1d-a82a-f69dd47c0dd9"
      },
      "execution_count": null,
      "outputs": [
        {
          "output_type": "stream",
          "name": "stdout",
          "text": [
            "1234567\n",
            "1234567\n"
          ]
        }
      ]
    },
    {
      "cell_type": "markdown",
      "source": [
        "### Remove\n",
        "\n",
        "dictionary에서 어떤 값을 지우기 위하여 dictionary_name.pop(key)를 하면 된다"
      ],
      "metadata": {
        "id": "rf59J7TiE8_Z"
      }
    },
    {
      "cell_type": "code",
      "source": [
        "person.pop('Kane')\n",
        "\n",
        "print(person)"
      ],
      "metadata": {
        "colab": {
          "base_uri": "https://localhost:8080/"
        },
        "id": "_YSigKCBE1zZ",
        "outputId": "6df243a0-f985-41f5-d949-f0b47f16f8db"
      },
      "execution_count": null,
      "outputs": [
        {
          "output_type": "stream",
          "name": "stdout",
          "text": [
            "{'Sonny': 134526785, 'Hi': 25747645, 'hangook2': 1234567, 'hello1': 1021333}\n"
          ]
        }
      ]
    },
    {
      "cell_type": "markdown",
      "source": [
        "### Loop (by value, by key, by items)\n",
        "\n",
        "\n",
        "dictionary는 key와 value의 조합으로 존재한다. 따라서 딕셔너리를 루프 돌릴 때는\n",
        "\n",
        "\n",
        "키 값으로만 루프를 돌릴지,\n",
        "\n",
        "벨류 값으로만 돌릴 것인지,\n",
        "\n",
        "아니면 둘이 한 쌍으로 돌릴 것인지 정할 수 있다."
      ],
      "metadata": {
        "id": "_fdETBFNFSuj"
      }
    },
    {
      "cell_type": "code",
      "source": [
        "# loop through values\n",
        "\n",
        "for val in person.values():\n",
        "  print(val)\n",
        "\n",
        "\n",
        "print()\n",
        "\n",
        "\n",
        "# loop through keys\n",
        "\n",
        "for key in person.keys():\n",
        "  print(key)\n",
        "\n",
        "print()\n",
        "\n",
        "# loop through items\n",
        "\n",
        "for key, val in person.items():\n",
        "  print(key, val)"
      ],
      "metadata": {
        "colab": {
          "base_uri": "https://localhost:8080/"
        },
        "id": "mT1JSbTEFNWi",
        "outputId": "83db6181-0ccc-43d1-e65c-10de3688c7b5"
      },
      "execution_count": null,
      "outputs": [
        {
          "output_type": "stream",
          "name": "stdout",
          "text": [
            "134526785\n",
            "25747645\n",
            "1234567\n",
            "1021333\n",
            "\n",
            "Sonny\n",
            "Hi\n",
            "hangook2\n",
            "hello1\n",
            "\n",
            "Sonny 134526785\n",
            "Hi 25747645\n",
            "hangook2 1234567\n",
            "hello1 1021333\n"
          ]
        }
      ]
    },
    {
      "cell_type": "markdown",
      "source": [
        "item같은 경우엔 key와 value를 한 쌍으로 돌리는 것이기에, 저런 식으로 활용이 가능하다.\n",
        "\n",
        "또, key로 루프 돌리는 것, value로 루프 돌리는 것 또한 서로의 값을 출력할 수 있다."
      ],
      "metadata": {
        "id": "a_yiH710GR5V"
      }
    },
    {
      "cell_type": "code",
      "source": [
        "\n",
        "# loop through key but print value linked\n",
        "\n",
        "for key in person.keys():\n",
        "  print(f\"the value for {key} is: {person.get(key)}\")"
      ],
      "metadata": {
        "colab": {
          "base_uri": "https://localhost:8080/"
        },
        "id": "lpDRRqyEGNnW",
        "outputId": "87d5a37b-252d-4a21-8be7-9fd42df709f5"
      },
      "execution_count": null,
      "outputs": [
        {
          "output_type": "stream",
          "name": "stdout",
          "text": [
            "the value for Sonny is: 134526785\n",
            "the value for Hi is: 25747645\n",
            "the value for hangook2 is: 1234567\n",
            "the value for hello1 is: 1021333\n"
          ]
        }
      ]
    },
    {
      "cell_type": "markdown",
      "source": [
        "추가적으로 딕셔너리에 어떤 key가 존재하는지 알아보는 방법은 in을 쓰는 겁니다. 또한, 없을 경우를 다루는 것은 not in으로 하면 됩니다."
      ],
      "metadata": {
        "id": "3FZk2j1KDIH3"
      }
    },
    {
      "cell_type": "code",
      "source": [
        "if 'gugucone123' not in person.keys():\n",
        "  print(\"the given key is not in the dictionary\")\n",
        "  person['gugucone123'] = 11223344\n",
        "\n",
        "print(person)"
      ],
      "metadata": {
        "colab": {
          "base_uri": "https://localhost:8080/"
        },
        "id": "3QGH0d3uDTrs",
        "outputId": "9dc24002-43f9-444c-827c-7f3e0bc0eb6c"
      },
      "execution_count": null,
      "outputs": [
        {
          "output_type": "stream",
          "name": "stdout",
          "text": [
            "the given key is not in the dictionary\n",
            "{'Sonny': 134526785, 'Hi': 25747645, 'hangook2': 1234567, 'hello1': 1021333, 'gugucone123': 11223344}\n"
          ]
        }
      ]
    },
    {
      "cell_type": "markdown",
      "source": [
        "### 문제1\n",
        "\n",
        "당신은 cs 100의 TA이다. 이 수업의 규칙은 다음과 같다: 수업 중에 절대 교실을 벗어나지 마시오.\n",
        "\n",
        "만약 당신에게 학생들의 netID로 채워진 리스트가 주어질 때, 교실을 두 번 이상 왔다 갔다 한 학생들을 구하시오. (학생이 교실 문을 지날 때마다 netID가 저장 됩니다.)"
      ],
      "metadata": {
        "id": "iEEQFoIiD3Fu"
      }
    },
    {
      "cell_type": "code",
      "source": [
        "netid = ['hangook2', 'chuchuman12', 'mansnothot3','abcd12', 'cdef23', 'people1', 'people2','people3', 'hangao2', 'kang10', 'palworld3', 'lol22','kingkong0', 'hangook2', 'chuchuman12']\n",
        "# 추가적인 실험을 위하여 엘레멘트를 더 추가하시는 것을 추천드립니다.\n",
        "#1\n",
        "a = set()\n",
        "for i in range(len(netid)):\n",
        "  for j in range(i + 1,len(netid)):\n",
        "    if netid[i] == netid[j]:\n",
        "      a.add(netid[i])\n",
        "\n",
        "print(a)\n",
        "#2\n",
        "set_name = set()\n",
        "for i in netid:\n",
        "  if i not in set_name:\n",
        "    set_name.add(i)\n",
        "  else:\n",
        "    print(i)\n",
        "#3\n",
        "dict_name = {}\n",
        "for i in netid:\n",
        "  if i not in dict_name:\n",
        "    dict_name[i] = 1\n",
        "  else:\n",
        "    dict_name[i] += 1\n",
        "\n",
        "for i in dict_name.keys():\n",
        "  if dict_name[i] > 1:\n",
        "    print(i)\n",
        "#netID 추가를 하시고 싶으신 분들을 위하여\n",
        "\n",
        "for i in range(3):\n",
        "  new_id = input(\"추가로 넣을 netID를 적으시오:\")\n",
        "  netid.append(new_id)\n"
      ],
      "metadata": {
        "id": "O0Q_edQGESKa",
        "colab": {
          "base_uri": "https://localhost:8080/"
        },
        "outputId": "9ec4a6c2-3215-4ca8-cef6-a10bd7405977"
      },
      "execution_count": null,
      "outputs": [
        {
          "name": "stdout",
          "output_type": "stream",
          "text": [
            "{'hangook2', 'chuchuman12'}\n",
            "hangook2\n",
            "chuchuman12\n",
            "hangook2\n",
            "chuchuman12\n",
            "추가로 넣을 netID를 적으시오:\n",
            "추가로 넣을 netID를 적으시오:\n",
            "추가로 넣을 netID를 적으시오:\n"
          ]
        }
      ]
    },
    {
      "cell_type": "markdown",
      "source": [
        "### 문제2\n",
        "\n",
        "아무 랜덤한 문자열이 주어졌을 때, 그 문자열에서 두 번 이상 나오는 문자를 찾아 리스트에 저장하시오. 그 후 리스트를 출력하시오.\n",
        "\n",
        "\n",
        "만약 모든 문자가 다 한 번씩만 있을 경우엔 \"겹치는 문자 없음\"을 출력하시오.\n",
        "\n",
        "예시:\n",
        "\n",
        "* hangoo -> o\n",
        "* mimiminu -> m,i\n",
        "* functio -> 겹치는 문자 없음"
      ],
      "metadata": {
        "id": "CWXkL0c7E2kn"
      }
    },
    {
      "cell_type": "code",
      "source": [
        "word = input(\"아무 글이나 넣으시오: \")\n",
        "b = set()\n",
        "c = set()\n",
        "for i in word:\n",
        "  if i not in b:\n",
        "    b.add(i)\n",
        "  else:\n",
        "    c.add(i)\n",
        "if len(c) == 0:\n",
        "  print('겹치는 문자 없음')\n",
        "else:print(c)\n",
        "\n",
        "\n"
      ],
      "metadata": {
        "id": "L2NqmbxRE1k9",
        "colab": {
          "base_uri": "https://localhost:8080/"
        },
        "outputId": "a06182a1-1e93-45eb-f388-5edf5733cf2e"
      },
      "execution_count": null,
      "outputs": [
        {
          "output_type": "stream",
          "name": "stdout",
          "text": [
            "아무 글이나 넣으시오: \n",
            "겹치는 문자 없음\n"
          ]
        }
      ]
    },
    {
      "cell_type": "markdown",
      "source": [
        "### 문제 3\n",
        "\n",
        "두 리스트가 주어졌을 때, 그 두 리스트가 정확히 똑같은 엘레멘트를 공유하는지 알아보시오.\n",
        "\n",
        "조건: 각 리스트의 모든 element는 unique하다. 즉 같은 리스트에 같은 엘레멘트가 두개 이상 존재하면 안 된다.\n",
        "\n",
        "조건2: 순서는 상관 없으며 그냥 둘의 엘레멘트가 모두 겹치는지 알아보면 된다."
      ],
      "metadata": {
        "id": "keT0X3f2FlMK"
      }
    },
    {
      "cell_type": "code",
      "source": [
        "a = ['a','b','c','d']\n",
        "b = ['a','b','c','d']\n",
        "\n",
        "compare = set()\n",
        "if len(a) == len(b):\n",
        "  compare.update(a)\n",
        "  compare.update(b)\n",
        "  if len(compare) != a:\n",
        "    print(\"yes\")\n",
        "  else:\n",
        "    print(\"not match\")\n",
        "\n",
        "\n"
      ],
      "metadata": {
        "id": "tO7XxB-0GuR-",
        "colab": {
          "base_uri": "https://localhost:8080/"
        },
        "outputId": "4d040f74-2a68-4e01-d731-a0b21c243918"
      },
      "execution_count": null,
      "outputs": [
        {
          "output_type": "stream",
          "name": "stdout",
          "text": [
            "yes\n"
          ]
        }
      ]
    },
    {
      "cell_type": "markdown",
      "source": [
        "### 문제 4\n",
        "\n",
        "두 세트가 주어질 경우, 두 세트의 교집합을 찾으시오. 즉 두 세트의 차이를 구하시오. 만약 겹치는 element가 없을 경우\n",
        "\n",
        "\"앗 겹치는 것이 없네용\"을 출력하시오.\n",
        "\n",
        "예시: {1,2,3,4} and {2,3,4,5} -> {2,3,4}"
      ],
      "metadata": {
        "id": "Jk2a3AcuGxJc"
      }
    },
    {
      "cell_type": "code",
      "source": [
        "a = {1,3,4}\n",
        "b = {1,2,3,4,5,6}\n",
        "overlap = set()\n",
        "\n",
        "for i in a:\n",
        "  if i in b:\n",
        "    overlap.add(i)\n",
        "\n",
        "print(overlap)"
      ],
      "metadata": {
        "id": "GhEI0lm1HVuk",
        "colab": {
          "base_uri": "https://localhost:8080/"
        },
        "outputId": "9d3a0b40-9620-4eb9-940c-45535db7595c"
      },
      "execution_count": null,
      "outputs": [
        {
          "output_type": "stream",
          "name": "stdout",
          "text": [
            "{1, 3, 4}\n"
          ]
        }
      ]
    },
    {
      "cell_type": "markdown",
      "source": [
        "### 문제 5\n",
        "\n",
        "당신은 cs 100 TA로서, 더 이상 학생들이 방에서 들락날락하지 않았으면 좋겠다고 생각하게 된다. 따라서 규칙을 이렇게 바꿨다.\n",
        "\n",
        "만약 반에서 3명 이상 들락날락했을 경우, 반 전체가 패널티를 받는다.\n",
        "\n",
        "netID가 담긴 리스트가 주어졌을 경우, 반 전체가 패널티를 받아야 할지 말아야 할지 정하는 프로그램을 구현하시오."
      ],
      "metadata": {
        "id": "JTX7A0DRG6Up"
      }
    },
    {
      "cell_type": "code",
      "source": [
        "netid = ['hangook2', 'chuchuman12', 'mansnothot3','abcd12', 'cdef23', 'people1', 'people2','people3', 'hangao2', 'kang10', 'palworld3', 'lol22','kingkong0', 'hangook2', 'chuchuman12']\n",
        "\n",
        "# 추가적인 실험을 위하여 엘레멘트를 더 추가하시는 것을 추천드립니다.\n",
        "\n",
        "\n",
        "#netID 추가를 하시고 싶으신 분들을 위하여\n",
        "\n",
        "for i in range(3):\n",
        "  new_id = input(\"추가로 넣을 netID를 적으시오: \")\n",
        "  netid.append(new_id)\n",
        "a = set()\n",
        "b = set()\n",
        "for i in netid:\n",
        "  if i not in a:\n",
        "    a.add(i)\n",
        "  else:\n",
        "    b.add(i)\n",
        "if len(b) >= 3:\n",
        "  print(b)\n",
        "  print('penalty')\n"
      ],
      "metadata": {
        "id": "jFdO1t_qH42c",
        "colab": {
          "base_uri": "https://localhost:8080/"
        },
        "outputId": "c2caf3fe-dd4e-4ff0-bcb1-86907f7725b1"
      },
      "execution_count": null,
      "outputs": [
        {
          "output_type": "stream",
          "name": "stdout",
          "text": [
            "추가로 넣을 netID를 적으시오: \n",
            "추가로 넣을 netID를 적으시오: \n",
            "추가로 넣을 netID를 적으시오: \n",
            "{'', 'hangook2', 'chuchuman12'}\n",
            "penalty\n"
          ]
        }
      ]
    },
    {
      "cell_type": "markdown",
      "source": [
        "### 문제6:\n",
        "Create a function lookupDefault(dict,item,default) that returns dict[item] if item is in the dictionary. If it is not, return default. The parameter default itself should have a default value of None.\n",
        "\n",
        "Example: if d == { 'x': 10, 'y': 20} then lookupDefault(d,'x') will return 10 and lookupDefault(d,'z',0) will return 0."
      ],
      "metadata": {
        "id": "_3svmSh8ws-1"
      }
    },
    {
      "cell_type": "code",
      "source": [],
      "metadata": {
        "id": "aS6LHlZ1C-ka"
      },
      "execution_count": null,
      "outputs": []
    },
    {
      "cell_type": "markdown",
      "source": [
        "###문제7:\n",
        "\n",
        "Write a function largestSalary that takes a dictionary where the keys are employee names and the values are employee information dictionaries. These dictionaries have keys salary, title, and years. It will return the name of the employee with the largest salary.\n",
        "\n",
        "For example, a dictionary might look like:\n",
        "\n",
        "d = { 'Frodo': { 'title': 'Ring Bearer', 'salary': 120000, 'years': 2},\n",
        "      'Gandalf': { 'title': \"Wizard\", 'salary': 420000, 'years': 3000 },\n",
        "      'Gollum': { 'title': \"Pest\", 'salary': 0, 'years': 120}}\n",
        "Calling largestSalary(d) should return Gandalf.\n",
        "\n",
        "Your code snippet should define the following variables:"
      ],
      "metadata": {
        "id": "nz5nJZpixivl"
      }
    },
    {
      "cell_type": "code",
      "source": [],
      "metadata": {
        "id": "xw2SrulbC_Lw"
      },
      "execution_count": null,
      "outputs": []
    },
    {
      "cell_type": "markdown",
      "source": [
        "### 문제8:\n",
        "\n",
        "Create a function load that opens a provided filename and creates a dictionary from it.\n",
        "\n",
        "The file will have key and data, along with other lines. It will look something like this:\n",
        "\n",
        "Here is the data!\n",
        "\n",
        "x,10\n",
        "y,20\n",
        "x,5\n",
        "\n",
        "And some more data!\n",
        "\n",
        "a,10\n",
        "b,20\n",
        "b,30\n",
        "Your function should create a dictionary like { 'x': 15, 'y': 20, 'a': 10, 'b': 50}.\n",
        "\n",
        "If a key ocours more than once, sum up the values.\n",
        "\n",
        "The tests will let you develop your function incrementally:\n",
        "\n",
        "Test 1 has files with only data lines and no repeats.\n",
        "Test 2 has extra lines in it that you will need to filter out, but no repeats.\n",
        "Test 3 has repeated keys and extra lines.\n",
        "Some hints:\n",
        "\n",
        "The lines with data have a comma, and the non-data lines are guaranteed not to have a comma.\n",
        "If you call split(',') on a line without a comma, what happens?\n",
        "Your code snippet should define the following variables:"
      ],
      "metadata": {
        "id": "wGN9apQUxpI7"
      }
    },
    {
      "cell_type": "code",
      "source": [],
      "metadata": {
        "id": "qU-4f5ZPxrqo"
      },
      "execution_count": null,
      "outputs": []
    }
  ]
}