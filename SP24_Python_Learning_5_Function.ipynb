{
  "nbformat": 4,
  "nbformat_minor": 0,
  "metadata": {
    "colab": {
      "provenance": [],
      "include_colab_link": true
    },
    "kernelspec": {
      "name": "python3",
      "display_name": "Python 3"
    },
    "language_info": {
      "name": "python"
    }
  },
  "cells": [
    {
      "cell_type": "markdown",
      "metadata": {
        "id": "view-in-github",
        "colab_type": "text"
      },
      "source": [
        "<a href=\"https://colab.research.google.com/github/Kitagawa-Mariin/HenryPark_Python/blob/Python_Learning/SP24_Python_Learning_5_Function.ipynb\" target=\"_parent\"><img src=\"https://colab.research.google.com/assets/colab-badge.svg\" alt=\"Open In Colab\"/></a>"
      ]
    },
    {
      "cell_type": "markdown",
      "source": [
        "# 지난 주 복습 + 숙제 타임"
      ],
      "metadata": {
        "id": "UuIhHhZs61UY"
      }
    },
    {
      "cell_type": "markdown",
      "source": [
        "Warm Up\n",
        "$$ $$\n",
        "Create a new dictionary variable named UIUC.\n",
        "\n",
        " The UIUC dictionary should have the following three Key-Pair values.\n",
        "\n",
        "- Key Major should have the values [\"CS\", \"ECE\", \"MATH\"].\n",
        "- Key Class should have the values [\"CS101\", \"CS124\",\"ECE110\", \"ECE120\", \"MATH241\", \"Math257\"].\n",
        "- Key Year should have the values [2024, 2025, 2026, 2027] (all int type)."
      ],
      "metadata": {
        "id": "7fI_FgFA65hn"
      }
    },
    {
      "cell_type": "code",
      "source": [
        "UIUC = {\n",
        "    \"Major\": [\"CS\", \"ECE\", \"MATH\"],\n",
        "    \"Class\": [\"CS101\", \"CS124\",\"ECE110\", \"ECE120\", \"MATH241\", \"Math257\"],\n",
        "    \"Year\": [2024, 2025, 2026, 2027]\n",
        "}\n",
        "print(UIUC)\n",
        "for keys in UIUC.keys():\n",
        "  print(keys)\n",
        "\n",
        "for values in UIUC.values():\n",
        "  print(values)\n",
        "\n",
        "for key, val in UIUC.items():\n",
        "  print(key, val)\n"
      ],
      "metadata": {
        "id": "8xzCTijD66YM",
        "colab": {
          "base_uri": "https://localhost:8080/"
        },
        "outputId": "4fea55a5-525b-47b4-e5a4-7e5024bdfd75"
      },
      "execution_count": null,
      "outputs": [
        {
          "output_type": "stream",
          "name": "stdout",
          "text": [
            "{'Major': ['CS', 'ECE', 'MATH'], 'Class': ['CS101', 'CS124', 'ECE110', 'ECE120', 'MATH241', 'Math257'], 'Year': [2024, 2025, 2026, 2027]}\n",
            "Major\n",
            "Class\n",
            "Year\n",
            "['CS', 'ECE', 'MATH']\n",
            "['CS101', 'CS124', 'ECE110', 'ECE120', 'MATH241', 'Math257']\n",
            "[2024, 2025, 2026, 2027]\n",
            "Major ['CS', 'ECE', 'MATH']\n",
            "Class ['CS101', 'CS124', 'ECE110', 'ECE120', 'MATH241', 'Math257']\n",
            "Year [2024, 2025, 2026, 2027]\n"
          ]
        }
      ]
    },
    {
      "cell_type": "markdown",
      "source": [
        "### 지난 숙제 문제 4\n",
        "\n",
        "두 세트가 주어질 경우, 두 세트의 교집합을 찾으시오. 즉 두 세트의 차이를 구하시오. 만약 겹치는 element가 없을 경우\n",
        "\n",
        "\"앗 겹치는 것이 없네용\"을 출력하시오.\n",
        "\n",
        "예시: {1,2,3,4} and {2,3,4,5} -> {2,3,4}"
      ],
      "metadata": {
        "id": "8ayK1rpGHO2S"
      }
    },
    {
      "cell_type": "code",
      "source": [
        "a = {1,3,4}\n",
        "b = {1,2,3,4,5,6}\n",
        "overlap = set()\n",
        "\n",
        "for i in a:\n",
        "  if i in b:\n",
        "    overlap.add(i)\n",
        "if len(overlap) > 0:\n",
        "  print(overlap)\n",
        "else:\n",
        "  print('앗 겹치는 것이 없네용')"
      ],
      "metadata": {
        "id": "bg_YDmjJHQ6R"
      },
      "execution_count": null,
      "outputs": []
    },
    {
      "cell_type": "markdown",
      "source": [
        "### 지난 숙제 문제 5\n",
        "\n",
        "당신은 cs 100 TA로서, 더 이상 학생들이 방에서 들락날락하지 않았으면 좋겠다고 생각하게 된다. 따라서 규칙을 이렇게 바꿨다.\n",
        "\n",
        "만약 반에서 3명 이상 들락날락했을 경우, 반 전체가 패널티를 받는다.\n",
        "\n",
        "netID가 담긴 리스트가 주어졌을 경우, 반 전체가 패널티를 받아야 할지 말아야 할지 정하는 프로그램을 구현하시오."
      ],
      "metadata": {
        "id": "8sZ7-BNeHU8h"
      }
    },
    {
      "cell_type": "code",
      "source": [
        "netid = ['hangook2', 'chuchuman12', 'mansnothot3','abcd12', 'cdef23', 'people1', 'people2','people3', 'hangao2', 'kang10', 'palworld3', 'lol22','kingkong0', 'hangook2', 'chuchuman12']\n",
        "\n",
        "# 추가적인 실험을 위하여 엘레멘트를 더 추가하시는 것을 추천드립니다.\n",
        "\n",
        "\n",
        "#netID 추가를 하시고 싶으신 분들을 위하여\n",
        "\n",
        "for i in range(3):\n",
        "  new_id = input(\"추가로 넣을 netID를 적으시오: \")\n",
        "  netid.append(new_id)\n",
        "a = set()\n",
        "b = set()\n",
        "for i in netid:\n",
        "  if i not in a:\n",
        "    a.add(i)\n",
        "  else:\n",
        "    b.add(i)\n",
        "if len(b) >= 3:\n",
        "  print(b)\n",
        "  print('penalty')"
      ],
      "metadata": {
        "id": "GY_CsT89HXLm"
      },
      "execution_count": null,
      "outputs": []
    },
    {
      "cell_type": "markdown",
      "source": [
        "# Functions"
      ],
      "metadata": {
        "id": "60rgmbZGq1-A"
      }
    },
    {
      "cell_type": "markdown",
      "source": [
        "function이란 말 그대로 함수입니다. 좀 더 쉽게 이해를 하려면, 함수는 공장이라고 생각하면 됩니다.\n",
        "\n",
        "공장에선 특정 일을 반복적으로 합니다. 함수도 똑같이 어떠한 일을 하라고 지어놓으면 그 함수를 부를 때마다 시킨 일을 하게 됩니다."
      ],
      "metadata": {
        "id": "REfpb18Yq44K"
      }
    },
    {
      "cell_type": "markdown",
      "source": [
        "엥 그러면 함수를 쓰지 않아도 되는 거 아닌가요? 필요할 때마다 그냥 직접 코드를 쓰면 되는 거 아닌가요? 라고 생각이 드신다면 아래의 상황을 생각 해보세요.\n",
        "\n",
        "당신이 피타고라스의 정리를 이용하여 직각 삼각형의 한 변을 계산하는 프로그램을 만들려고 합니다.\n",
        "\n",
        "만약 당신이 함수를 쓰지 않는다면, 계산을 할 때마다 새로 공식을 써서 계산을 해야합니다.\n",
        "\n",
        "하지만 함수를 만들어 놓은 다음 계산이 필요할 때마다 그 함수를 부르기만 하면 된다면 작업이 훨씬 수월하게, 빠르게 진행이 될 겁니다."
      ],
      "metadata": {
        "id": "PgmB1AVkYz_i"
      }
    },
    {
      "cell_type": "markdown",
      "source": [
        "함수를 만드는 방법은 아래와 같습니다.\n",
        "\n",
        "def function_name(function input):\n",
        "\n",
        "* functionalities\n",
        "* return something"
      ],
      "metadata": {
        "id": "cw2bwVo0t4ti"
      }
    },
    {
      "cell_type": "code",
      "execution_count": null,
      "metadata": {
        "id": "ATpU5AQepcte",
        "colab": {
          "base_uri": "https://localhost:8080/"
        },
        "outputId": "4af3f245-215e-4d1f-ade9-f04e2c8828ef"
      },
      "outputs": [
        {
          "output_type": "stream",
          "name": "stdout",
          "text": [
            "15\n"
          ]
        }
      ],
      "source": [
        "def add_two_num(a , b):\n",
        "  return a + b\n",
        "\n",
        "\n",
        "num1 = 10\n",
        "num2 = 5\n",
        "\n",
        "print(add_two_num(num1, num2))"
      ]
    },
    {
      "cell_type": "markdown",
      "source": [
        "방금과 같이 함수에 인풋들을 파라미터라고 합니다. 하지만 함수에는 파라미터가 없는 함수를 만들 수도 있습니다."
      ],
      "metadata": {
        "id": "Rw1XAidFunhJ"
      }
    },
    {
      "cell_type": "code",
      "source": [
        "def my_function():\n",
        "  print(\"Hello from a function\")\n",
        "\n",
        "my_function()"
      ],
      "metadata": {
        "colab": {
          "base_uri": "https://localhost:8080/"
        },
        "id": "vNBQYfrjuNMf",
        "outputId": "ae31bc2f-3f16-4d13-9d16-a3d87aaf01ee"
      },
      "execution_count": null,
      "outputs": [
        {
          "output_type": "stream",
          "name": "stdout",
          "text": [
            "Hello from a function\n"
          ]
        }
      ]
    },
    {
      "cell_type": "markdown",
      "source": [
        "함수에는 디폴트 값을 정할 수 있습니다."
      ],
      "metadata": {
        "id": "Vnghtjojzavp"
      }
    },
    {
      "cell_type": "code",
      "source": [
        "def subtract_numbers(a = 10, b = 5): #이 함수의 경우엔 각 파라미터에 따로 값을 부여하지 않았을 때, a = 10, b = 5의 디폴트 값을 가지게 됩니다.\n",
        "  return a - b\n",
        "\n",
        "print(subtract_numbers())\n",
        "print(subtract_numbers(20, 10))"
      ],
      "metadata": {
        "colab": {
          "base_uri": "https://localhost:8080/"
        },
        "id": "V6ln1Wv7u4WI",
        "outputId": "740134d9-5e60-49d5-b28a-280a885a5af2"
      },
      "execution_count": null,
      "outputs": [
        {
          "output_type": "stream",
          "name": "stdout",
          "text": [
            "5\n",
            "10\n"
          ]
        }
      ]
    },
    {
      "cell_type": "code",
      "source": [
        "print(subtract_numbers(7))"
      ],
      "metadata": {
        "colab": {
          "base_uri": "https://localhost:8080/"
        },
        "id": "0ubxBXXP2jvN",
        "outputId": "495a22d6-99cb-407a-8f64-cfdb98cdee5e"
      },
      "execution_count": null,
      "outputs": [
        {
          "output_type": "stream",
          "name": "stdout",
          "text": [
            "2\n"
          ]
        }
      ]
    },
    {
      "cell_type": "code",
      "source": [
        "print(subtract_numbers(7,))\n",
        "print(subtract_numbers(b = 8))"
      ],
      "metadata": {
        "colab": {
          "base_uri": "https://localhost:8080/"
        },
        "id": "G2TdiAFY2s_J",
        "outputId": "c617d79c-bb25-42c4-e9d7-90fc31b4c246"
      },
      "execution_count": null,
      "outputs": [
        {
          "output_type": "stream",
          "name": "stdout",
          "text": [
            "2\n",
            "2\n"
          ]
        }
      ]
    },
    {
      "cell_type": "markdown",
      "source": [
        "## 예제 문제 0.1\n",
        "\n",
        "아래의 값이 출력할 값을 맞추시오"
      ],
      "metadata": {
        "id": "NJuTJ-O428PM"
      }
    },
    {
      "cell_type": "code",
      "source": [
        "# subtract_numbers(subtract_numbers(10, 2), subtract_numbers(10, subtract_numbers(8)))\n",
        "your_ans = 1\n",
        "\n",
        "print(your_ans == subtract_numbers(subtract_numbers(10, 2), subtract_numbers(10, subtract_numbers(8))))"
      ],
      "metadata": {
        "id": "vwyV651O2vao",
        "colab": {
          "base_uri": "https://localhost:8080/"
        },
        "outputId": "3aa7fc3c-e303-4415-dc6a-35c5d82ef224"
      },
      "execution_count": null,
      "outputs": [
        {
          "output_type": "stream",
          "name": "stdout",
          "text": [
            "True\n"
          ]
        }
      ]
    },
    {
      "cell_type": "markdown",
      "source": [
        "아래와 같은 함수도 쓸 수 있습니다."
      ],
      "metadata": {
        "id": "lJqWMGb25Q-B"
      }
    },
    {
      "cell_type": "code",
      "source": [
        "def list_sum(x):\n",
        "\n",
        "  # x : input list\n",
        "  # return : sum of all numbers in the list x\n",
        "\n",
        "  sums = 0\n",
        "\n",
        "  for i in x:\n",
        "      sums = sums + i\n",
        "\n",
        "  return sums\n",
        "\n",
        "one_to_five = [1, 2, 3, 4, 5]\n",
        "\n",
        "list_sum(one_to_five)"
      ],
      "metadata": {
        "colab": {
          "base_uri": "https://localhost:8080/"
        },
        "id": "-obzUgUs5Mw-",
        "outputId": "d8ea8668-ba7a-4733-a11e-960ebff3c82f"
      },
      "execution_count": null,
      "outputs": [
        {
          "output_type": "execute_result",
          "data": {
            "text/plain": [
              "15"
            ]
          },
          "metadata": {},
          "execution_count": 10
        }
      ]
    },
    {
      "cell_type": "markdown",
      "source": [
        "## 예제 0.2\n",
        "\n",
        "아래의 팩토리얼을 계산하는 함수를 마무리 해보시오."
      ],
      "metadata": {
        "id": "IwI8HMli5djL"
      }
    },
    {
      "cell_type": "code",
      "source": [
        "def factorial(x):\n",
        "\n",
        "  # input: An integer we want the factorial of\n",
        "  # output: fact = x!\n",
        "  # example: 4! = 4 * 3 * 2 * 1 = 24\n",
        "\n",
        "  # HINT : Factorial is the product of all positive integers less than or equal to x\n",
        "  # Try to store the multiplied value into fact while going through all the numbers\n",
        "\n",
        "\n",
        "  ### START OF CODE ###\n",
        "  num = 1\n",
        "  for i in range(x):\n",
        "    num = num * (i + 1)\n",
        "\n",
        "  ### END OF CODE ###\n",
        "  return num\n",
        "\n",
        "\n",
        "# Do not modify below!\n",
        "if factorial(4) != 24:\n",
        "    print(\"Wrong answer\")\n",
        "\n",
        "else:\n",
        "    print(\"Correct answer!\")"
      ],
      "metadata": {
        "id": "j904lP_S5Wl_",
        "colab": {
          "base_uri": "https://localhost:8080/"
        },
        "outputId": "4124fb80-3324-4981-e510-896ac52ca4b5"
      },
      "execution_count": null,
      "outputs": [
        {
          "output_type": "stream",
          "name": "stdout",
          "text": [
            "24\n",
            "Correct answer!\n"
          ]
        }
      ]
    },
    {
      "cell_type": "markdown",
      "source": [
        "### easy 1.\n",
        "\n",
        "피타고라스의 정리를 이용한 함수를 만들어 보시오. 단, 서로 직각으로 마주치는 두 변의 길이가 주어질 때, 나머지 한 변의 길이를 구하는 함수를 구하시오."
      ],
      "metadata": {
        "id": "PGrSNzvcI3G2"
      }
    },
    {
      "cell_type": "code",
      "source": [
        "import numpy as np\n",
        "def equ(a,b):\n",
        "  return np.sqrt(a**2 + b**2)\n",
        "\n",
        "print(equ(3,4))"
      ],
      "metadata": {
        "id": "8h640l5XJWYp",
        "colab": {
          "base_uri": "https://localhost:8080/"
        },
        "outputId": "12d01095-ed5d-43ae-958b-1d812cfde7a5"
      },
      "execution_count": null,
      "outputs": [
        {
          "output_type": "stream",
          "name": "stdout",
          "text": [
            "5.0\n"
          ]
        }
      ]
    },
    {
      "cell_type": "markdown",
      "source": [
        "### easy 2.\n",
        "이번엔 빗변과 한 변이 주어졌을 경우, 나머지 한 변의 길이를 구하는 함수를 만들어보시오"
      ],
      "metadata": {
        "id": "I8VYmbAmJWv0"
      }
    },
    {
      "cell_type": "code",
      "source": [
        "def eq2(a,b):\n",
        "  if a > b:\n",
        "    return np.sqrt(a**2 - b**2)\n",
        "  else:\n",
        "    return np.sqrt(b**2 - a**2)\n",
        "\n",
        "print(eq2(2,4))"
      ],
      "metadata": {
        "id": "jQZ5g5-mJdDV",
        "colab": {
          "base_uri": "https://localhost:8080/"
        },
        "outputId": "1f4b6c94-9056-406e-8c91-e0b4784e57a1"
      },
      "execution_count": null,
      "outputs": [
        {
          "output_type": "stream",
          "name": "stdout",
          "text": [
            "3.4641016151377544\n"
          ]
        }
      ]
    },
    {
      "cell_type": "markdown",
      "source": [
        "### 심화"
      ],
      "metadata": {
        "id": "l0h7SXEyHafE"
      }
    },
    {
      "cell_type": "markdown",
      "source": [
        "McDonalds is thinking about changing their menu price.\n",
        "\n",
        "To help our good friend, we created dictionaries containing 'mcdonalds_set_menu' and 'menu_price_change'. With these dictionaries, finish the function 'new_menu'!\n",
        "\n",
        "In other words, use the integer inside 'menu_price_change' to have according price for each set menu in 'mcdonalds_set_menu'.  "
      ],
      "metadata": {
        "id": "7tdVtjK466w2"
      }
    },
    {
      "cell_type": "code",
      "source": [
        "mcdonalds_set_menu = {\n",
        "    \"Set A\": {\n",
        "        \"combo\": [\"Burger\", \"Soda\", \"Fries\"],\n",
        "        # Price is in dollars\n",
        "        \"price\" : 9.5,\n",
        "    },\n",
        "\n",
        "    \"Set B\": {\n",
        "        \"combo\": [\"Nuggets\", \"Onion Ring\", \"Soda\"],\n",
        "        \"price\" : 5.7\n",
        "    },\n",
        "\n",
        "    \"Set C\": {\n",
        "        \"combo\": [\"Ice Cream\", \"Soda\"],\n",
        "        \"price\" : 3.3\n",
        "    },\n",
        "\n",
        "    \"Set D\": {\n",
        "        \"combo\": [\"Onion Ring\", \"Nuggets\", \"Fries\"],\n",
        "        \"price\": 6.0\n",
        "    },\n",
        "\n",
        "    \"Set E\": {\n",
        "        \"combo\": [\"Burger\", \"Burger\", \"Ice Cream\", \"Ice Cream\"],\n",
        "        \"price\": 14.4\n",
        "    }\n",
        "}\n",
        "\n",
        "# The integer means change in price (dollars)\n",
        "menu_price_change = {\n",
        "    \"Burger\" : -0.5,\n",
        "    \"Fries\" : 0.9,\n",
        "    \"Soda\" : 0.1,\n",
        "    \"Ice Cream\": 0,\n",
        "    \"Nuggets\": 1.3,\n",
        "    \"Onion Ring\": -1.0\n",
        "}"
      ],
      "metadata": {
        "id": "yPyReHpx7CnJ"
      },
      "execution_count": null,
      "outputs": []
    },
    {
      "cell_type": "code",
      "source": [
        "def new_menu(set_menu, price_change):\n",
        "\n",
        "  ### YOUR CODE HERE ###\n",
        "\n",
        "  ### END OF CODE ###\n",
        "\n",
        "  return round(set_menu[\"Set A\"][\"price\"], 1), round(set_menu[\"Set B\"][\"price\"], 1), round(set_menu[\"Set C\"][\"price\"], 1), round(set_menu[\"Set D\"][\"price\"], 1), round(set_menu[\"Set E\"][\"price\"], 1)\n",
        "\n",
        "\n",
        "setA, setB, setC, setD, setE = new_menu(mcdonalds_set_menu, menu_price_change)\n",
        "\n",
        "print(\"Set A: \", setA)\n",
        "print(\"Set B: \", setB)\n",
        "print(\"Set C: \", setC)\n",
        "print(\"Set D: \", setD)\n",
        "print(\"Set E: \", setE)"
      ],
      "metadata": {
        "id": "pVjQPYtG7FHH"
      },
      "execution_count": null,
      "outputs": []
    }
  ]
}