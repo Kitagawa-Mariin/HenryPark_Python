{
  "nbformat": 4,
  "nbformat_minor": 0,
  "metadata": {
    "colab": {
      "provenance": [],
      "include_colab_link": true
    },
    "kernelspec": {
      "name": "python3",
      "display_name": "Python 3"
    },
    "language_info": {
      "name": "python"
    }
  },
  "cells": [
    {
      "cell_type": "markdown",
      "metadata": {
        "id": "view-in-github",
        "colab_type": "text"
      },
      "source": [
        "<a href=\"https://colab.research.google.com/github/Kitagawa-Mariin/HenryPark_Python/blob/Python_Learning/SP24_Python_Learning_6_Class.ipynb\" target=\"_parent\"><img src=\"https://colab.research.google.com/assets/colab-badge.svg\" alt=\"Open In Colab\"/></a>"
      ]
    },
    {
      "cell_type": "markdown",
      "source": [
        "# Class"
      ],
      "metadata": {
        "id": "LzXxGGXVFeHv"
      }
    },
    {
      "cell_type": "markdown",
      "source": [
        "클래스는 로봇 공장이라고 생각하시면 될 것 같습니다.\n",
        "\n",
        "로봇이라 하면, 다 똑같이 생긴 로봇이 아니라, 제작자가 스스로 커스터마이징을 할 수 있는 로봇입니다.\n",
        "\n",
        "다 똑같은 로봇이라도, 색이 다를 수 있고, 외형이 다를 수 있고, 이름이 다를 수 있습니다. 이와같은 로봇들을 만드는 공장이 클래스입니다.\n",
        "\n",
        "이 클래스에서 만들어진 로봇을 우리는 오브젝트 (object)라고 부릅니다! 이 오브젝트는 클래스가 가지고있는 모든 함수들을 쓸 수 있습니다. 기능이라고 생각하시면 됩니다."
      ],
      "metadata": {
        "id": "305whl03Fg9B"
      }
    },
    {
      "cell_type": "code",
      "execution_count": null,
      "metadata": {
        "colab": {
          "base_uri": "https://localhost:8080/"
        },
        "id": "9NHZCaseFYtC",
        "outputId": "f2429633-a67a-47d8-965e-4e60dd7195ff"
      },
      "outputs": [
        {
          "output_type": "stream",
          "name": "stdout",
          "text": [
            "hangoo\n"
          ]
        }
      ],
      "source": [
        "class Student:\n",
        "  # 맨 처음 학생 오브젝트를 만들 때, 어떤 식으로 커스터마이징을 시킬 것인지 정하는 함수입니다.\n",
        "  # self라는 것은 나 자신, 즉 현재 생성되는 오브젝트 본인을 뜻합니다. 즉 self.name이라 하면, 내 이름은? 느낌입니다.\n",
        "  def __init__(self, name, major, age):\n",
        "    self.name = name\n",
        "    self.major = major\n",
        "    self.age = age\n",
        "\n",
        "\n",
        "hangoo = Student(\"hangoo\", \"CS\", 23)\n",
        "\n",
        "print(hangoo.name)"
      ]
    },
    {
      "cell_type": "markdown",
      "source": [
        "클래스는 로봇한테 다양한 기능들을 추가할 수 있습니다. 이 기능들을 function 대신 method라고 부릅니다.\n",
        "\n",
        "메소드는 함수와 완전 똑같으나, 클래스 오브젝트만 사용이 가능합니다."
      ],
      "metadata": {
        "id": "Ber_bu-1N7C4"
      }
    },
    {
      "cell_type": "code",
      "source": [
        "class Student:\n",
        "  # 맨 처음 학생 오브젝트를 만들 때, 어떤 식으로 커스터마이징을 시킬 것인지 정하는 함수입니다.\n",
        "  # self라는 것은 나 자신, 즉 현재 생성되는 오브젝트 본인을 뜻합니다. 즉 self.name이라 하면, 내 이름은? 느낌입니다.\n",
        "  def __init__(self, name, major, age):\n",
        "    self.name = name\n",
        "    self.major = major\n",
        "    self.age = age\n",
        "\n",
        "  def get_name(self):\n",
        "    return self.name\n",
        "\n",
        "  def set_name(self, name):\n",
        "    self.name = name\n",
        "\n",
        "\n",
        "hangoo = Student(\"hangoo\", \"CS\", 23)\n",
        "\n",
        "print(hangoo.get_name())\n",
        "\n",
        "hangoo.set_name(\"Hangoo Kang\")\n",
        "print(hangoo.get_name())"
      ],
      "metadata": {
        "colab": {
          "base_uri": "https://localhost:8080/"
        },
        "id": "fdwKK3n-GSvM",
        "outputId": "ee7d652a-8fcb-44ec-d3aa-a17bd490075d"
      },
      "execution_count": null,
      "outputs": [
        {
          "output_type": "stream",
          "name": "stdout",
          "text": [
            "hangoo\n",
            "Hangoo Kang\n"
          ]
        }
      ]
    },
    {
      "cell_type": "markdown",
      "source": [
        "## 에제 1\n",
        "\n",
        "1. Make a class names Restaurant.\n",
        "- This class has three values (Name, cuisine, Best Menu).\n",
        "- This class should have the init function.\n",
        "- This class should also have a setter and a getter for Best Menu.\n",
        "- Last of all, this class should have a print_this method that prints \"Hi this is (Name) that sells (cuisine). Our best menu is (best menu)\""
      ],
      "metadata": {
        "id": "RPauVc3GOh5k"
      }
    },
    {
      "cell_type": "code",
      "source": [],
      "metadata": {
        "id": "FKEAyoHNNMmo"
      },
      "execution_count": null,
      "outputs": []
    },
    {
      "cell_type": "markdown",
      "source": [
        "## 예제 2\n",
        "\n",
        "아래의 문제를 구현하시오"
      ],
      "metadata": {
        "id": "9s08GmM9OxhW"
      }
    },
    {
      "cell_type": "markdown",
      "source": [
        "Cuboid is a 3D shape that can be made by length, breadth, and height."
      ],
      "metadata": {
        "id": "V75misn3O49G"
      }
    },
    {
      "cell_type": "markdown",
      "source": [
        "Make a class in which we can call an instance of a cube with methods below.\n",
        "\n",
        "Length, breadth, and height should be given as arguments."
      ],
      "metadata": {
        "id": "gr3SE_weO7CB"
      }
    },
    {
      "cell_type": "markdown",
      "source": [
        "**surface_area()** : Returns the surface area of a cube\n",
        "\n",
        "**edge_sum()** : Returns the sum of all edges of a cube\n",
        "\n",
        "**cube_vol()** : Returns the volume of a cube\n",
        "\n",
        "**is_square_cube()** : Returns whether the sqaure is a cube or not\n",
        "\n"
      ],
      "metadata": {
        "id": "27aECQtSO9Ue"
      }
    },
    {
      "cell_type": "markdown",
      "source": [
        "You also have to create init() function"
      ],
      "metadata": {
        "id": "BfPY7U8nO-ED"
      }
    },
    {
      "cell_type": "code",
      "source": [],
      "metadata": {
        "id": "yeZHHm1WO3uL"
      },
      "execution_count": null,
      "outputs": []
    },
    {
      "cell_type": "markdown",
      "source": [
        "To check your answer"
      ],
      "metadata": {
        "id": "vspc49RUPDp1"
      }
    },
    {
      "cell_type": "code",
      "source": [],
      "metadata": {
        "id": "09zzzPjDPDU9"
      },
      "execution_count": null,
      "outputs": []
    }
  ]
}