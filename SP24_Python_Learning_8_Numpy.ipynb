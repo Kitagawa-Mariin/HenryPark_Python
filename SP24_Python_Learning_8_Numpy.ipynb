{
  "nbformat": 4,
  "nbformat_minor": 0,
  "metadata": {
    "colab": {
      "provenance": [],
      "include_colab_link": true
    },
    "kernelspec": {
      "name": "python3",
      "display_name": "Python 3"
    },
    "language_info": {
      "name": "python"
    }
  },
  "cells": [
    {
      "cell_type": "markdown",
      "metadata": {
        "id": "view-in-github",
        "colab_type": "text"
      },
      "source": [
        "<a href=\"https://colab.research.google.com/github/Kitagawa-Mariin/HenryPark_Python/blob/Python_Learning/SP24_Python_Learning_8_Numpy.ipynb\" target=\"_parent\"><img src=\"https://colab.research.google.com/assets/colab-badge.svg\" alt=\"Open In Colab\"/></a>"
      ]
    },
    {
      "cell_type": "markdown",
      "source": [
        "# 복습\n",
        "\n",
        "##Recursion\n",
        "\n",
        "재귀함수란, 같은 함수를 다른 인풋으로 반복해서 부르는 것을 뜻합니다.\n",
        "\n",
        "보통은 큰, 복잡한 문제를 작은, 더 간단한 문제들로 쪼개서 풀어내는 방법에서 자주 사용됩니다."
      ],
      "metadata": {
        "id": "iyqAGf8cNRb1"
      }
    },
    {
      "cell_type": "code",
      "source": [
        "def factorial(n):\n",
        "  if n == 0 or n == 1:\n",
        "    return 1\n",
        "  return n * factorial(n - 1)\n",
        "print(factorial(5))"
      ],
      "metadata": {
        "colab": {
          "base_uri": "https://localhost:8080/"
        },
        "id": "lLTLXKKKNUKV",
        "outputId": "0fd5f08a-7063-4b3a-97c9-df5d5e2cb41b"
      },
      "execution_count": null,
      "outputs": [
        {
          "output_type": "stream",
          "name": "stdout",
          "text": [
            "120\n"
          ]
        }
      ]
    },
    {
      "cell_type": "markdown",
      "source": [
        "## 지난 주 숙제\n",
        "\n",
        "아래와 같은 *로 이루어진 모형이 만들어질 수 있도록 recursion을 사용하여 코드를 써봅시다.\n",
        "모형 맨 위와 아래에 있는  \"\"\"는 무시하셔도 됩니다"
      ],
      "metadata": {
        "id": "zEY1ZiuzNUss"
      }
    },
    {
      "cell_type": "code",
      "source": [
        "\"\"\"\n",
        "*\n",
        "**\n",
        "***\n",
        "**\n",
        "*\n",
        "\"\"\"\n",
        "# hint) '\\n'"
      ],
      "metadata": {
        "colab": {
          "base_uri": "https://localhost:8080/",
          "height": 36
        },
        "id": "ID2ftkjNNWtc",
        "outputId": "1532c063-70c4-409c-c84e-744bd53de294"
      },
      "execution_count": null,
      "outputs": [
        {
          "output_type": "execute_result",
          "data": {
            "text/plain": [
              "'\\n*\\n**\\n***\\n**\\n*\\n'"
            ],
            "application/vnd.google.colaboratory.intrinsic+json": {
              "type": "string"
            }
          },
          "metadata": {},
          "execution_count": 2
        }
      ]
    },
    {
      "cell_type": "markdown",
      "source": [
        "# Introduction to Numpy"
      ],
      "metadata": {
        "id": "20nCp6P_uZOZ"
      }
    },
    {
      "cell_type": "markdown",
      "source": [
        "## Import statement"
      ],
      "metadata": {
        "id": "_kRvvPEsvQss"
      }
    },
    {
      "cell_type": "markdown",
      "source": [
        "모듈은 코드 라이브러리와 동일하다고 생각할 수 있습니다.\n",
        "\n",
        "응용 프로그램에 포함하고자 하는 함수 집합이 들어 있는 파일입니다.\n",
        "\n",
        "우리는 import 키워드를 사용하여 미리 정의된 모듈이나 생성된 모듈을 사용할 수 있습니다."
      ],
      "metadata": {
        "id": "OveVCOuz9r1G"
      }
    },
    {
      "cell_type": "code",
      "source": [
        "# We are trying to use functions in 'numpy' module and call the module as 'np'.\n",
        "import numpy as np"
      ],
      "metadata": {
        "id": "h0dHwUdsub_M"
      },
      "execution_count": null,
      "outputs": []
    },
    {
      "cell_type": "markdown",
      "source": [
        "## What is numpy?"
      ],
      "metadata": {
        "id": "iemb4QFDvS-C"
      }
    },
    {
      "cell_type": "markdown",
      "source": [
        "NumPy는 **배열**을 다루는 데 사용되는 Python 라이브러리입니다.\n",
        "\n",
        "선형 대수, 푸리에 변환 및 행렬 영역에서 작업하는 함수도 있습니다.\n",
        "\n",
        "Python에는 배열 역할을 하는 리스트가 있지만 처리 속도가 느립니다.\n",
        "\n",
        "NumPy는 전통적인 Python 리스트보다 최대 50배 빠른 배열 객체를 제공합니다.\n",
        "\n",
        "NumPy의 배열 객체는 **ndarray**라고 합니다."
      ],
      "metadata": {
        "id": "kvc1pU8vwCf_"
      }
    },
    {
      "cell_type": "code",
      "source": [
        "# We can create a NumPy ndarray object by using the array() function.\n",
        "\n",
        "temp = [1, 2, 3, 4]\n",
        "\n",
        "print(np.array(temp))\n",
        "\n",
        "arr = np.array(temp)\n",
        "print(arr * 2)\n",
        "print(temp * 2)"
      ],
      "metadata": {
        "colab": {
          "base_uri": "https://localhost:8080/"
        },
        "id": "O5h9N8KQwQzL",
        "outputId": "802a6953-4c9a-4a93-9b19-af1ccab5247f"
      },
      "execution_count": null,
      "outputs": [
        {
          "output_type": "stream",
          "name": "stdout",
          "text": [
            "[1 2 3 4]\n",
            "[2 4 6 8]\n",
            "[1, 2, 3, 4, 1, 2, 3, 4]\n"
          ]
        }
      ]
    },
    {
      "cell_type": "markdown",
      "source": [
        "## More functions in numpy"
      ],
      "metadata": {
        "id": "fiG0Eqgzwlks"
      }
    },
    {
      "cell_type": "markdown",
      "source": [
        "arange() 함수는 주어진 간격에 따라 등간격 요소를 갖는 배열을 반환합니다"
      ],
      "metadata": {
        "id": "_IlOQadExlgy"
      }
    },
    {
      "cell_type": "code",
      "source": [
        "# Creating an array from 1 to 9\n",
        "print(np.arange(1, 10))\n",
        "\n",
        "# Creating an array that contains numbers up until 14\n",
        "print(np.arange(15))\n",
        "\n",
        "# Crating an array that contains numbers from 2 to 21, but numbers increase by 2\n",
        "print(np.arange(2, 22, 2))"
      ],
      "metadata": {
        "colab": {
          "base_uri": "https://localhost:8080/"
        },
        "id": "c1iL4-PSwqgO",
        "outputId": "2c3b73b4-03dd-43b8-d8d6-29de4a1913cf"
      },
      "execution_count": null,
      "outputs": [
        {
          "output_type": "stream",
          "name": "stdout",
          "text": [
            "[1 2 3 4 5 6 7 8 9]\n",
            "[ 0  1  2  3  4  5  6  7  8  9 10 11 12 13 14]\n",
            "[ 2  4  6  8 10 12 14 16 18 20]\n"
          ]
        }
      ]
    },
    {
      "cell_type": "markdown",
      "source": [
        "**linspace()** 함수는 간격에 따라 등간격의 공간을 가진 수를 반환합니다.\n",
        "\n",
        "이는 **numpy.arange()** 함수와 유사하지만 단계(step) 대신 샘플 번호를 사용합니다."
      ],
      "metadata": {
        "id": "ul4GHmQtyRsz"
      }
    },
    {
      "cell_type": "code",
      "source": [
        "# You have start as 1, end as 4, and you have 4 numbers in between with equal intervals\n",
        "print(np.linspace(1, 4, num = 4))\n",
        "\n",
        "print(np.linspace(2, 3, num = 5))\n",
        "\n",
        "print(np.linspace(0, 100, num = 11))"
      ],
      "metadata": {
        "colab": {
          "base_uri": "https://localhost:8080/"
        },
        "id": "EmO2vhE3yHrN",
        "outputId": "91a89eaa-cb61-48a4-d2a2-8c59a8b04010"
      },
      "execution_count": null,
      "outputs": [
        {
          "output_type": "stream",
          "name": "stdout",
          "text": [
            "[1. 2. 3. 4.]\n",
            "[2.   2.25 2.5  2.75 3.  ]\n",
            "[  0.  10.  20.  30.  40.  50.  60.  70.  80.  90. 100.]\n"
          ]
        }
      ]
    },
    {
      "cell_type": "code",
      "source": [
        "a = [[1,2],[3,4],[5,6]]\n",
        "a = np.array(a)\n",
        "print(a.shape)\n",
        "print(a.size)"
      ],
      "metadata": {
        "colab": {
          "base_uri": "https://localhost:8080/"
        },
        "id": "eIk4UOleV-PE",
        "outputId": "f7ca1335-7acc-434a-af1c-bee9a097d299"
      },
      "execution_count": null,
      "outputs": [
        {
          "output_type": "stream",
          "name": "stdout",
          "text": [
            "(3, 2)\n",
            "6\n"
          ]
        }
      ]
    },
    {
      "cell_type": "markdown",
      "source": [
        "**empty()** 함수는 지정된 모양(shape)과 유형(type)을 가진 새로운 배열을 반환하며, 무작위 값으로 초기화됩니다."
      ],
      "metadata": {
        "id": "F5Wbit-M04_Q"
      }
    },
    {
      "cell_type": "markdown",
      "source": [],
      "metadata": {
        "id": "2gdiCyclV8QR"
      }
    },
    {
      "cell_type": "code",
      "source": [
        "a = np.empty((3,3)) #shape\n",
        "b = np.empty(3) #size\n",
        "print(a)\n",
        "print('')\n",
        "print(b)"
      ],
      "metadata": {
        "colab": {
          "base_uri": "https://localhost:8080/"
        },
        "id": "9L7CCS5Yzs_2",
        "outputId": "62138586-c202-46d7-b87a-f8d584fd2afa"
      },
      "execution_count": null,
      "outputs": [
        {
          "output_type": "stream",
          "name": "stdout",
          "text": [
            "[[5.01790492e-310 0.00000000e+000 0.00000000e+000]\n",
            " [0.00000000e+000 0.00000000e+000 0.00000000e+000]\n",
            " [0.00000000e+000 0.00000000e+000 0.00000000e+000]]\n",
            "\n",
            "[0.  0.5 1. ]\n"
          ]
        }
      ]
    },
    {
      "cell_type": "markdown",
      "source": [
        "\n",
        "**full()** 함수는 주어진 배열과 동일한 모양(shape)과 유형(type)을 가진 새로운 배열을 반환하며, fill_value로 채워집니다."
      ],
      "metadata": {
        "id": "6N0L8Wfw1De5"
      }
    },
    {
      "cell_type": "code",
      "source": [
        "# dtype determines the type of values in the array\n",
        "print(np.full(10, 4, dtype = float))\n",
        "\n",
        "# np.inf is a floating point representation of (positive) infinity\n",
        "print(np.full((2, 2), np.inf))\n",
        "\n",
        "print(np.full((2, 2), [1, 2]))"
      ],
      "metadata": {
        "colab": {
          "base_uri": "https://localhost:8080/"
        },
        "id": "LJ8wrdaZ1DxK",
        "outputId": "b7d3bbad-7210-44cf-90c4-59ded9dffe26"
      },
      "execution_count": null,
      "outputs": [
        {
          "output_type": "stream",
          "name": "stdout",
          "text": [
            "[4. 4. 4. 4. 4. 4. 4. 4. 4. 4.]\n",
            "[[inf inf]\n",
            " [inf inf]]\n",
            "[[1 2]\n",
            " [1 2]]\n"
          ]
        }
      ]
    },
    {
      "cell_type": "markdown",
      "source": [
        "## Little more on using numpy..."
      ],
      "metadata": {
        "id": "MrtMoOgY-M-X"
      }
    },
    {
      "cell_type": "code",
      "source": [
        "# 2D array...?\n",
        "temp_matrix = np.array([[1,2,3,4], [5,6,7,8]])"
      ],
      "metadata": {
        "id": "EaMdSKe--LVq"
      },
      "execution_count": null,
      "outputs": []
    },
    {
      "cell_type": "code",
      "source": [
        "# Number of elements in array\n",
        "print(temp_matrix.size)\n",
        "\n",
        "# Dimension of array\n",
        "print(temp_matrix.ndim)\n",
        "\n",
        "# Shape of array\n",
        "print(temp_matrix.shape)"
      ],
      "metadata": {
        "colab": {
          "base_uri": "https://localhost:8080/"
        },
        "id": "X-fE0H-5-Tsu",
        "outputId": "bc9dc9b0-df9c-4357-e2bc-90fb0d31a699"
      },
      "execution_count": null,
      "outputs": [
        {
          "output_type": "stream",
          "name": "stdout",
          "text": [
            "8\n",
            "2\n",
            "(2, 4)\n"
          ]
        }
      ]
    },
    {
      "cell_type": "code",
      "source": [
        "# Changing the shape of the array\n",
        "print(temp_matrix.reshape(1, 8))\n",
        "\n",
        "# The transpose of a matrix is an operator which flips a matrix over its diagonal\n",
        "print(temp_matrix.T)\n",
        "\n",
        "#vector x vector >> vector(matrix) @ vector(matrix)"
      ],
      "metadata": {
        "colab": {
          "base_uri": "https://localhost:8080/"
        },
        "id": "ILbL_cSN-f7-",
        "outputId": "a883ea53-c2e9-4ec0-fc27-567337f7fe8b"
      },
      "execution_count": null,
      "outputs": [
        {
          "output_type": "stream",
          "name": "stdout",
          "text": [
            "[[1 2 3 4 5 6 7 8]]\n",
            "[[1 5]\n",
            " [2 6]\n",
            " [3 7]\n",
            " [4 8]]\n"
          ]
        }
      ]
    },
    {
      "cell_type": "code",
      "source": [
        "a = np.array([[1,2],[3,4],[5,6]])\n",
        "b = np.array([[2,2,2],[3,3,3]])\n",
        "\n",
        "# Multiplying by coordinates.\n",
        "print(a * b.T)\n",
        "\n",
        "# Returns the matrix product of two arrays.\n",
        "print(np.matmul(a, b))"
      ],
      "metadata": {
        "colab": {
          "base_uri": "https://localhost:8080/"
        },
        "id": "lpocRxJ4-nlG",
        "outputId": "aa82c5ba-58ca-4d44-a9b9-5678b6c33a60"
      },
      "execution_count": null,
      "outputs": [
        {
          "output_type": "stream",
          "name": "stdout",
          "text": [
            "[[ 2  6]\n",
            " [ 6 12]\n",
            " [10 18]]\n",
            "[[ 8  8  8]\n",
            " [18 18 18]\n",
            " [28 28 28]]\n"
          ]
        }
      ]
    },
    {
      "cell_type": "code",
      "source": [
        "arr1 = np.array([1, 2, 3])\n",
        "\n",
        "arr2 = np.array([4, 5, 6])\n",
        "\n",
        "# Making two arrays into a single array\n",
        "print(np.concatenate((arr1, arr2)))\n",
        "\n",
        "# Used to stack the sequence of input arrays horizontally\n",
        "print(np.hstack((arr1, arr2)))\n",
        "\n",
        "# Used to stack the sequence of input arrays vertically\n",
        "print(np.vstack((arr1, arr2)))"
      ],
      "metadata": {
        "colab": {
          "base_uri": "https://localhost:8080/"
        },
        "id": "Anrhl7w5-oeT",
        "outputId": "cee5556d-f4c5-4242-aecc-0093d15b8525"
      },
      "execution_count": null,
      "outputs": [
        {
          "output_type": "stream",
          "name": "stdout",
          "text": [
            "[1 2 3 4 5 6]\n",
            "[1 2 3 4 5 6]\n",
            "[[1 2 3]\n",
            " [4 5 6]]\n"
          ]
        }
      ]
    },
    {
      "cell_type": "code",
      "source": [
        "# Returns maximum value of the array\n",
        "print(a.max())\n",
        "\n",
        "# Returns minimum value of the array\n",
        "print(a.min())\n",
        "\n",
        "# Returns the sum of values of the array\n",
        "print(a.sum())\n",
        "#print(a/si)\n",
        "# Returns a copy of the array collapsed into one dimension\n",
        "print(a.flatten())\n",
        "\n",
        "b = np.array([0, 3, 2, 0, 2, 5, 1, 2])\n",
        "\n",
        "# Returns the sorted unique elements of an array.\n",
        "print(np.unique(b))\n",
        "\n",
        "# Reverse the order of elements in an array along the given axis.\n",
        "# The shape of the array is preserved, but the elements are reordered.\n",
        "print(np.flip(a))"
      ],
      "metadata": {
        "colab": {
          "base_uri": "https://localhost:8080/"
        },
        "id": "xsFKngp0-ptt",
        "outputId": "ad0952b3-bdc9-44f8-ecdc-910872b2cfae"
      },
      "execution_count": null,
      "outputs": [
        {
          "output_type": "stream",
          "name": "stdout",
          "text": [
            "6\n",
            "1\n",
            "21\n",
            "[1 2 3 4 5 6]\n",
            "[0 1 2 3 5]\n",
            "[[6 5]\n",
            " [4 3]\n",
            " [2 1]]\n"
          ]
        }
      ]
    },
    {
      "cell_type": "markdown",
      "source": [
        "## Challenges"
      ],
      "metadata": {
        "id": "KalUvBdsLrAj"
      }
    },
    {
      "cell_type": "markdown",
      "source": [
        "Extract all odd numbers from arr"
      ],
      "metadata": {
        "id": "YnLGb936LtLd"
      }
    },
    {
      "cell_type": "code",
      "source": [
        "arr = np.array([0,1,2,3,4,5,6,7,8,9,10])\n",
        "print(arr[arr % 2 !=0])\n",
        "\n",
        "result = []\n",
        "for i in arr:\n",
        "  if i % 2 != 0:\n",
        "    result.append(i)\n",
        "print(result)"
      ],
      "metadata": {
        "id": "DtEnF-VeLsx2",
        "colab": {
          "base_uri": "https://localhost:8080/"
        },
        "outputId": "893d9ec8-2da5-42f0-d331-de62d1cdbbc5"
      },
      "execution_count": null,
      "outputs": [
        {
          "output_type": "stream",
          "name": "stdout",
          "text": [
            "[1 3 5 7 9]\n",
            "[1, 3, 5, 7, 9]\n"
          ]
        }
      ]
    },
    {
      "cell_type": "markdown",
      "source": [
        "Convert a 1D array to a 2D array with 2 rows"
      ],
      "metadata": {
        "id": "qywqNkUJL9FM"
      }
    },
    {
      "cell_type": "code",
      "source": [
        "arr = np.arange(10)\n",
        "arr = np.vstack((arr, arr))\n",
        "arr"
      ],
      "metadata": {
        "id": "LxHHgR_hMDHg",
        "colab": {
          "base_uri": "https://localhost:8080/"
        },
        "outputId": "5402991f-2e2f-4d37-f244-95dadda9d579"
      },
      "execution_count": null,
      "outputs": [
        {
          "output_type": "execute_result",
          "data": {
            "text/plain": [
              "array([[0, 1, 2, 3, 4, 5, 6, 7, 8, 9],\n",
              "       [0, 1, 2, 3, 4, 5, 6, 7, 8, 9]])"
            ]
          },
          "metadata": {},
          "execution_count": 17
        }
      ]
    },
    {
      "cell_type": "markdown",
      "source": [
        "Compute the counts of row in the array below"
      ],
      "metadata": {
        "id": "w8IMDiJXMGVT"
      }
    },
    {
      "cell_type": "code",
      "source": [
        "np.random.seed(100)\n",
        "arr = np.random.randint(1,11,size=(6, 10))"
      ],
      "metadata": {
        "id": "HFB7ZVQPMxac"
      },
      "execution_count": null,
      "outputs": []
    },
    {
      "cell_type": "code",
      "source": [
        "print(arr.shape[0])\n",
        "\n",
        "row, col = arr.shape"
      ],
      "metadata": {
        "colab": {
          "base_uri": "https://localhost:8080/"
        },
        "id": "wocoiSByFaJa",
        "outputId": "4c1744cc-a374-485a-b34e-d2c27cc4e2e4"
      },
      "execution_count": null,
      "outputs": [
        {
          "output_type": "stream",
          "name": "stdout",
          "text": [
            "6\n"
          ]
        }
      ]
    },
    {
      "cell_type": "code",
      "source": [
        "import numpy as np\n",
        "arr = np.array([[1,2,3],\n",
        "                [10,11,12],\n",
        "                [7,8,9],\n",
        "                [5,6,7]])\n",
        "\n",
        "# Exercise 1\n",
        "# 각각 Row들의 합, Row에서 가장 작은 숫자, Row에서 가장 큰 숫자를 구하시오.\n",
        "# Exercise 2\n",
        "# 각각 Column들의 합, Column에서 가장 작은 숫자, Column에서 가장 큰 숫자를 구하시오.\n",
        "rows, columns = arr.shape;\n",
        "\n",
        "for i in range(rows):\n",
        "  print(arr[i].sum())\n",
        "print('')\n",
        "for i in range(rows):\n",
        "  print(arr[i].max())\n",
        "print('')\n",
        "for i in range(rows):\n",
        "  print(arr[i].min())\n",
        "\n",
        "#Exercise2: use transpose\n",
        "arrT = arr.T\n",
        "rowT, columnT = arrT.shape;\n",
        "for i in range(rowT):\n",
        "  print(arrT[i].sum())\n",
        "print('')\n",
        "for i in range(rowT):\n",
        "  print(arrT[i].max())\n",
        "print('')\n",
        "for i in range(rowT):\n",
        "  print(arrT[i].min())\n",
        "\n"
      ],
      "metadata": {
        "id": "Fm0zAfKoFdqP",
        "colab": {
          "base_uri": "https://localhost:8080/"
        },
        "outputId": "221d3c27-d460-42c9-8164-b124b8fb3778"
      },
      "execution_count": null,
      "outputs": [
        {
          "output_type": "stream",
          "name": "stdout",
          "text": [
            "6\n",
            "33\n",
            "24\n",
            "18\n",
            "\n",
            "3\n",
            "12\n",
            "9\n",
            "7\n",
            "\n",
            "1\n",
            "10\n",
            "7\n",
            "5\n",
            "23\n",
            "27\n",
            "31\n",
            "\n",
            "10\n",
            "11\n",
            "12\n",
            "\n",
            "1\n",
            "2\n",
            "3\n"
          ]
        }
      ]
    },
    {
      "cell_type": "code",
      "source": [],
      "metadata": {
        "id": "VOt8XpPqen38"
      },
      "execution_count": null,
      "outputs": []
    }
  ]
}