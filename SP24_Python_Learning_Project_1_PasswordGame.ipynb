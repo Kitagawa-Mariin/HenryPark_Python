{
  "nbformat": 4,
  "nbformat_minor": 0,
  "metadata": {
    "colab": {
      "provenance": [],
      "include_colab_link": true
    },
    "kernelspec": {
      "name": "python3",
      "display_name": "Python 3"
    },
    "language_info": {
      "name": "python"
    }
  },
  "cells": [
    {
      "cell_type": "markdown",
      "metadata": {
        "id": "view-in-github",
        "colab_type": "text"
      },
      "source": [
        "<a href=\"https://colab.research.google.com/github/Kitagawa-Mariin/HenryPark_Python/blob/Python_Learning/SP24_Python_Learning_Project_1_PasswordGame.ipynb\" target=\"_parent\"><img src=\"https://colab.research.google.com/assets/colab-badge.svg\" alt=\"Open In Colab\"/></a>"
      ]
    },
    {
      "cell_type": "code",
      "execution_count": null,
      "metadata": {
        "colab": {
          "base_uri": "https://localhost:8080/"
        },
        "id": "u_9n-ox_LIhS",
        "outputId": "ba022c00-6988-4faa-80c1-f0142510840b"
      },
      "outputs": [
        {
          "output_type": "stream",
          "name": "stdout",
          "text": [
            "password: 0\n",
            "500\n",
            "250\n",
            "125\n",
            "62\n",
            "31\n",
            "15\n",
            "7\n",
            "3\n",
            "1\n",
            "done\n",
            "0\n"
          ]
        }
      ],
      "source": [
        "password = int(input('password: '))\n",
        "\n",
        "lower = 0\n",
        "upper = 1000\n",
        "x = 0\n",
        "while True:\n",
        "  if password >= lower and password <= upper:\n",
        "   x = lower + (upper - lower) // 2\n",
        "  if password < x:\n",
        "    lower = lower\n",
        "    upper = x\n",
        "  elif password > x:\n",
        "    lower = x\n",
        "    upper = upper\n",
        "  if password == x:\n",
        "    print('done')\n",
        "    print(x)\n",
        "    break\n",
        "  print(x)\n",
        "\n",
        "\n",
        "\n"
      ]
    },
    {
      "cell_type": "code",
      "source": [
        "import random\n",
        "password = int(input('password(0~1000): '))\n",
        "count = 1\n",
        "guess = 0\n",
        "lower = 0\n",
        "upper = 1000\n",
        "decision = True\n",
        "guess = random.randint(lower,upper)\n",
        "print('( 1 ) my guess is: ', guess, '.')\n",
        "print('If my guess is larger than the password, type \"down\"')\n",
        "print('If my guess is smaller than the password, type \"up\"')\n",
        "print('If my guess is right, type \"yes\"')\n",
        "print('If you want to end this, type \"stop\"')\n",
        "answer = input('your answer: ')\n",
        "\n",
        "while True:\n",
        "  if answer == 'down' and guess > password:\n",
        "    decision = True\n",
        "    upper = guess\n",
        "  elif answer == 'up' and guess < password:\n",
        "    decision = True\n",
        "    lower = guess\n",
        "  elif answer == 'yes' or answer == 'stop':\n",
        "      decision = True\n",
        "      print('The password is ',password,'!')\n",
        "      break\n",
        "\n",
        "  if answer != 'up' and answer != 'down' and answer != 'yes' and answer != 'stop' :\n",
        "    answer = input('error, retry: ')\n",
        "    decision = False\n",
        "\n",
        "  if answer == 'down' and guess <= password:\n",
        "    decision = False\n",
        "    answer = input('I think you made a wrong decision, try again: ')\n",
        "  elif answer == 'up' and guess >= password:\n",
        "    decision = False\n",
        "    answer = input('I think you made a wrong decision, try again: ')\n",
        "  elif answer == 'yes' and guess != password:\n",
        "    decision = False\n",
        "    answer = input('I think you made a wrong decision, try again: ')\n",
        "\n",
        "  if decision == True :\n",
        "    count = count + 1\n",
        "    guess = random.randint(lower,upper)\n",
        "    print('(',count,')','my guess is: ', guess, '.')\n",
        "    answer = input('your answer: ')\n",
        "\n",
        "\n",
        "\n",
        "\n"
      ],
      "metadata": {
        "id": "E4d0M2UvL9BC",
        "colab": {
          "base_uri": "https://localhost:8080/"
        },
        "outputId": "b34cb415-bd5b-45c9-ecfd-131a2c95176d"
      },
      "execution_count": null,
      "outputs": [
        {
          "output_type": "stream",
          "name": "stdout",
          "text": [
            "password(0~1000): 0\n",
            "( 1 ) my guess is:  240 .\n",
            "If my guess is larger than the password, type \"down\"\n",
            "If my guess is smaller than the password, type \"up\"\n",
            "If my guess is right, type \"yes\"\n",
            "If you want to end this, type \"stop\"\n",
            "your answer: down\n",
            "( 2 ) my guess is:  100 .\n",
            "your answer: down\n",
            "( 3 ) my guess is:  63 .\n",
            "your answer: donw\n",
            "error, retry: down\n",
            "( 4 ) my guess is:  36 .\n",
            "your answer: down\n",
            "( 5 ) my guess is:  6 .\n",
            "your answer: down\n",
            "( 6 ) my guess is:  4 .\n",
            "your answer: down\n",
            "( 7 ) my guess is:  0 .\n",
            "your answer: yes\n",
            "The password is  0 !\n"
          ]
        }
      ]
    },
    {
      "cell_type": "code",
      "source": [
        "d"
      ],
      "metadata": {
        "id": "fXsF49a4weXn"
      },
      "execution_count": null,
      "outputs": []
    }
  ]
}